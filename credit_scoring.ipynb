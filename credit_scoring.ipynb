{
 "cells": [
  {
   "cell_type": "code",
   "execution_count": 1,
   "metadata": {
    "colab": {
     "base_uri": "https://localhost:8080/"
    },
    "id": "2Nth6At4R77J",
    "outputId": "8c2fa335-2161-42c0-a493-dbf344713c0b"
   },
   "outputs": [],
   "source": [
    "# !pip install d3rlpy"
   ]
  },
  {
   "cell_type": "code",
   "execution_count": 2,
   "metadata": {
    "colab": {
     "base_uri": "https://localhost:8080/"
    },
    "id": "3v-S_tFIg7Ry",
    "outputId": "1e2612bf-b4e0-43d9-c13a-558b154b11f0"
   },
   "outputs": [
    {
     "name": "stdout",
     "output_type": "stream",
     "text": [
      "/bin/bash: matplotlib: command not found\n"
     ]
    }
   ],
   "source": [
    "import matplotlib.pyplot as plt\n",
    "!matplotlib inline"
   ]
  },
  {
   "cell_type": "code",
   "execution_count": 3,
   "metadata": {
    "id": "YSSpSc5TC2Kj"
   },
   "outputs": [],
   "source": [
    "import pandas as pd\n",
    "import d3rlpy\n",
    "import numpy as np\n",
    "import pandas as pd\n",
    "\n",
    "train = pd.read_csv('train_data.csv')\n",
    "test = pd.read_csv('test_data.csv')"
   ]
  },
  {
   "cell_type": "code",
   "execution_count": 4,
   "metadata": {
    "colab": {
     "base_uri": "https://localhost:8080/",
     "height": 224
    },
    "id": "Dk68SvgxPijE",
    "outputId": "f6e2640b-05cd-490d-f768-fdba8e479089"
   },
   "outputs": [
    {
     "data": {
      "text/html": [
       "<div>\n",
       "<style scoped>\n",
       "    .dataframe tbody tr th:only-of-type {\n",
       "        vertical-align: middle;\n",
       "    }\n",
       "\n",
       "    .dataframe tbody tr th {\n",
       "        vertical-align: top;\n",
       "    }\n",
       "\n",
       "    .dataframe thead th {\n",
       "        text-align: right;\n",
       "    }\n",
       "</style>\n",
       "<table border=\"1\" class=\"dataframe\">\n",
       "  <thead>\n",
       "    <tr style=\"text-align: right;\">\n",
       "      <th></th>\n",
       "      <th>Tier</th>\n",
       "      <th>FICO</th>\n",
       "      <th>Term</th>\n",
       "      <th>Amount</th>\n",
       "      <th>Previous_Rate</th>\n",
       "      <th>Competition_rate</th>\n",
       "      <th>Rate</th>\n",
       "      <th>Cost_Funds</th>\n",
       "      <th>Partner Bin</th>\n",
       "      <th>Car_Type_N</th>\n",
       "      <th>Car_Type_R</th>\n",
       "      <th>Car_Type_U</th>\n",
       "      <th>Accept</th>\n",
       "      <th>Previous_Rate_Known</th>\n",
       "    </tr>\n",
       "  </thead>\n",
       "  <tbody>\n",
       "    <tr>\n",
       "      <th>0</th>\n",
       "      <td>2</td>\n",
       "      <td>725</td>\n",
       "      <td>72</td>\n",
       "      <td>30500.0</td>\n",
       "      <td>5.000000</td>\n",
       "      <td>6.09</td>\n",
       "      <td>4.99</td>\n",
       "      <td>1.1200</td>\n",
       "      <td>2</td>\n",
       "      <td>0</td>\n",
       "      <td>1</td>\n",
       "      <td>0</td>\n",
       "      <td>0</td>\n",
       "      <td>True</td>\n",
       "    </tr>\n",
       "    <tr>\n",
       "      <th>1</th>\n",
       "      <td>1</td>\n",
       "      <td>739</td>\n",
       "      <td>60</td>\n",
       "      <td>25995.0</td>\n",
       "      <td>7.625269</td>\n",
       "      <td>4.79</td>\n",
       "      <td>4.79</td>\n",
       "      <td>1.9590</td>\n",
       "      <td>2</td>\n",
       "      <td>0</td>\n",
       "      <td>0</td>\n",
       "      <td>1</td>\n",
       "      <td>0</td>\n",
       "      <td>False</td>\n",
       "    </tr>\n",
       "    <tr>\n",
       "      <th>2</th>\n",
       "      <td>1</td>\n",
       "      <td>781</td>\n",
       "      <td>60</td>\n",
       "      <td>39000.0</td>\n",
       "      <td>7.625269</td>\n",
       "      <td>4.25</td>\n",
       "      <td>4.25</td>\n",
       "      <td>1.1200</td>\n",
       "      <td>2</td>\n",
       "      <td>1</td>\n",
       "      <td>0</td>\n",
       "      <td>0</td>\n",
       "      <td>0</td>\n",
       "      <td>False</td>\n",
       "    </tr>\n",
       "    <tr>\n",
       "      <th>3</th>\n",
       "      <td>2</td>\n",
       "      <td>718</td>\n",
       "      <td>72</td>\n",
       "      <td>30000.0</td>\n",
       "      <td>7.625269</td>\n",
       "      <td>5.39</td>\n",
       "      <td>5.44</td>\n",
       "      <td>1.3363</td>\n",
       "      <td>1</td>\n",
       "      <td>1</td>\n",
       "      <td>0</td>\n",
       "      <td>0</td>\n",
       "      <td>1</td>\n",
       "      <td>False</td>\n",
       "    </tr>\n",
       "    <tr>\n",
       "      <th>4</th>\n",
       "      <td>2</td>\n",
       "      <td>703</td>\n",
       "      <td>72</td>\n",
       "      <td>38000.0</td>\n",
       "      <td>7.625269</td>\n",
       "      <td>5.75</td>\n",
       "      <td>6.29</td>\n",
       "      <td>1.1338</td>\n",
       "      <td>1</td>\n",
       "      <td>0</td>\n",
       "      <td>0</td>\n",
       "      <td>1</td>\n",
       "      <td>0</td>\n",
       "      <td>False</td>\n",
       "    </tr>\n",
       "  </tbody>\n",
       "</table>\n",
       "</div>"
      ],
      "text/plain": [
       "   Tier  FICO  Term   Amount  Previous_Rate  Competition_rate  Rate  \\\n",
       "0     2   725    72  30500.0       5.000000              6.09  4.99   \n",
       "1     1   739    60  25995.0       7.625269              4.79  4.79   \n",
       "2     1   781    60  39000.0       7.625269              4.25  4.25   \n",
       "3     2   718    72  30000.0       7.625269              5.39  5.44   \n",
       "4     2   703    72  38000.0       7.625269              5.75  6.29   \n",
       "\n",
       "   Cost_Funds  Partner Bin  Car_Type_N  Car_Type_R  Car_Type_U  Accept  \\\n",
       "0      1.1200            2           0           1           0       0   \n",
       "1      1.9590            2           0           0           1       0   \n",
       "2      1.1200            2           1           0           0       0   \n",
       "3      1.3363            1           1           0           0       1   \n",
       "4      1.1338            1           0           0           1       0   \n",
       "\n",
       "   Previous_Rate_Known  \n",
       "0                 True  \n",
       "1                False  \n",
       "2                False  \n",
       "3                False  \n",
       "4                False  "
      ]
     },
     "execution_count": 4,
     "metadata": {},
     "output_type": "execute_result"
    }
   ],
   "source": [
    "def previous_rate_process(data, mean=None):\n",
    "    data['Previous_Rate_Known'] = data['Previous_Rate'] != -10\n",
    "    prev_rate = data['Previous_Rate'].copy()\n",
    "    if mean:\n",
    "        prev_rate_mean = mean\n",
    "    else:\n",
    "        prev_rate_mean = prev_rate[prev_rate != -10].mean()\n",
    "    prev_rate[prev_rate == -10] = prev_rate_mean\n",
    "    data['Previous_Rate'] = prev_rate\n",
    "    return prev_rate_mean\n",
    "\n",
    "prev_rate_mean = previous_rate_process(train)\n",
    "previous_rate_process(test, prev_rate_mean)\n",
    "train.head()"
   ]
  },
  {
   "cell_type": "code",
   "execution_count": 5,
   "metadata": {
    "colab": {
     "base_uri": "https://localhost:8080/",
     "height": 320
    },
    "id": "up-g2jVGejor",
    "outputId": "c7795913-c4e1-41ff-89ce-023be1a34112"
   },
   "outputs": [
    {
     "data": {
      "text/html": [
       "<div>\n",
       "<style scoped>\n",
       "    .dataframe tbody tr th:only-of-type {\n",
       "        vertical-align: middle;\n",
       "    }\n",
       "\n",
       "    .dataframe tbody tr th {\n",
       "        vertical-align: top;\n",
       "    }\n",
       "\n",
       "    .dataframe thead th {\n",
       "        text-align: right;\n",
       "    }\n",
       "</style>\n",
       "<table border=\"1\" class=\"dataframe\">\n",
       "  <thead>\n",
       "    <tr style=\"text-align: right;\">\n",
       "      <th></th>\n",
       "      <th>Tier</th>\n",
       "      <th>FICO</th>\n",
       "      <th>Term</th>\n",
       "      <th>Amount</th>\n",
       "      <th>Previous_Rate</th>\n",
       "      <th>Competition_rate</th>\n",
       "      <th>Rate</th>\n",
       "      <th>Cost_Funds</th>\n",
       "      <th>Partner Bin</th>\n",
       "      <th>Car_Type_N</th>\n",
       "      <th>Car_Type_R</th>\n",
       "      <th>Car_Type_U</th>\n",
       "      <th>Accept</th>\n",
       "    </tr>\n",
       "  </thead>\n",
       "  <tbody>\n",
       "    <tr>\n",
       "      <th>count</th>\n",
       "      <td>145659.000000</td>\n",
       "      <td>145659.000000</td>\n",
       "      <td>145659.000000</td>\n",
       "      <td>145659.000000</td>\n",
       "      <td>145659.000000</td>\n",
       "      <td>145659.000000</td>\n",
       "      <td>145659.000000</td>\n",
       "      <td>145659.000000</td>\n",
       "      <td>145659.000000</td>\n",
       "      <td>145659.000000</td>\n",
       "      <td>145659.000000</td>\n",
       "      <td>145659.000000</td>\n",
       "      <td>145659.000000</td>\n",
       "    </tr>\n",
       "    <tr>\n",
       "      <th>mean</th>\n",
       "      <td>1.928429</td>\n",
       "      <td>726.695556</td>\n",
       "      <td>56.822441</td>\n",
       "      <td>25996.819760</td>\n",
       "      <td>7.625269</td>\n",
       "      <td>4.807957</td>\n",
       "      <td>5.623998</td>\n",
       "      <td>1.329209</td>\n",
       "      <td>2.029473</td>\n",
       "      <td>0.571815</td>\n",
       "      <td>0.226865</td>\n",
       "      <td>0.201320</td>\n",
       "      <td>0.220041</td>\n",
       "    </tr>\n",
       "    <tr>\n",
       "      <th>std</th>\n",
       "      <td>1.050519</td>\n",
       "      <td>44.727756</td>\n",
       "      <td>11.201037</td>\n",
       "      <td>11125.968255</td>\n",
       "      <td>1.323102</td>\n",
       "      <td>0.586018</td>\n",
       "      <td>1.545418</td>\n",
       "      <td>0.278368</td>\n",
       "      <td>0.911097</td>\n",
       "      <td>0.494817</td>\n",
       "      <td>0.418806</td>\n",
       "      <td>0.400988</td>\n",
       "      <td>0.414276</td>\n",
       "    </tr>\n",
       "    <tr>\n",
       "      <th>min</th>\n",
       "      <td>1.000000</td>\n",
       "      <td>594.000000</td>\n",
       "      <td>36.000000</td>\n",
       "      <td>4526.620000</td>\n",
       "      <td>3.000000</td>\n",
       "      <td>2.990000</td>\n",
       "      <td>2.450000</td>\n",
       "      <td>1.020000</td>\n",
       "      <td>1.000000</td>\n",
       "      <td>0.000000</td>\n",
       "      <td>0.000000</td>\n",
       "      <td>0.000000</td>\n",
       "      <td>0.000000</td>\n",
       "    </tr>\n",
       "    <tr>\n",
       "      <th>25%</th>\n",
       "      <td>1.000000</td>\n",
       "      <td>692.000000</td>\n",
       "      <td>48.000000</td>\n",
       "      <td>17753.450000</td>\n",
       "      <td>7.625269</td>\n",
       "      <td>4.390000</td>\n",
       "      <td>4.490000</td>\n",
       "      <td>1.110000</td>\n",
       "      <td>1.000000</td>\n",
       "      <td>0.000000</td>\n",
       "      <td>0.000000</td>\n",
       "      <td>0.000000</td>\n",
       "      <td>0.000000</td>\n",
       "    </tr>\n",
       "    <tr>\n",
       "      <th>50%</th>\n",
       "      <td>2.000000</td>\n",
       "      <td>726.000000</td>\n",
       "      <td>60.000000</td>\n",
       "      <td>25000.000000</td>\n",
       "      <td>7.625269</td>\n",
       "      <td>4.790000</td>\n",
       "      <td>5.090000</td>\n",
       "      <td>1.262500</td>\n",
       "      <td>2.000000</td>\n",
       "      <td>1.000000</td>\n",
       "      <td>0.000000</td>\n",
       "      <td>0.000000</td>\n",
       "      <td>0.000000</td>\n",
       "    </tr>\n",
       "    <tr>\n",
       "      <th>75%</th>\n",
       "      <td>3.000000</td>\n",
       "      <td>762.000000</td>\n",
       "      <td>60.000000</td>\n",
       "      <td>33000.000000</td>\n",
       "      <td>7.625269</td>\n",
       "      <td>5.190000</td>\n",
       "      <td>6.390000</td>\n",
       "      <td>1.419400</td>\n",
       "      <td>3.000000</td>\n",
       "      <td>1.000000</td>\n",
       "      <td>0.000000</td>\n",
       "      <td>0.000000</td>\n",
       "      <td>0.000000</td>\n",
       "    </tr>\n",
       "    <tr>\n",
       "      <th>max</th>\n",
       "      <td>4.000000</td>\n",
       "      <td>852.000000</td>\n",
       "      <td>72.000000</td>\n",
       "      <td>100000.000000</td>\n",
       "      <td>24.000000</td>\n",
       "      <td>6.450000</td>\n",
       "      <td>15.530000</td>\n",
       "      <td>2.127000</td>\n",
       "      <td>3.000000</td>\n",
       "      <td>1.000000</td>\n",
       "      <td>1.000000</td>\n",
       "      <td>1.000000</td>\n",
       "      <td>1.000000</td>\n",
       "    </tr>\n",
       "  </tbody>\n",
       "</table>\n",
       "</div>"
      ],
      "text/plain": [
       "                Tier           FICO           Term         Amount  \\\n",
       "count  145659.000000  145659.000000  145659.000000  145659.000000   \n",
       "mean        1.928429     726.695556      56.822441   25996.819760   \n",
       "std         1.050519      44.727756      11.201037   11125.968255   \n",
       "min         1.000000     594.000000      36.000000    4526.620000   \n",
       "25%         1.000000     692.000000      48.000000   17753.450000   \n",
       "50%         2.000000     726.000000      60.000000   25000.000000   \n",
       "75%         3.000000     762.000000      60.000000   33000.000000   \n",
       "max         4.000000     852.000000      72.000000  100000.000000   \n",
       "\n",
       "       Previous_Rate  Competition_rate           Rate     Cost_Funds  \\\n",
       "count  145659.000000     145659.000000  145659.000000  145659.000000   \n",
       "mean        7.625269          4.807957       5.623998       1.329209   \n",
       "std         1.323102          0.586018       1.545418       0.278368   \n",
       "min         3.000000          2.990000       2.450000       1.020000   \n",
       "25%         7.625269          4.390000       4.490000       1.110000   \n",
       "50%         7.625269          4.790000       5.090000       1.262500   \n",
       "75%         7.625269          5.190000       6.390000       1.419400   \n",
       "max        24.000000          6.450000      15.530000       2.127000   \n",
       "\n",
       "         Partner Bin     Car_Type_N     Car_Type_R     Car_Type_U  \\\n",
       "count  145659.000000  145659.000000  145659.000000  145659.000000   \n",
       "mean        2.029473       0.571815       0.226865       0.201320   \n",
       "std         0.911097       0.494817       0.418806       0.400988   \n",
       "min         1.000000       0.000000       0.000000       0.000000   \n",
       "25%         1.000000       0.000000       0.000000       0.000000   \n",
       "50%         2.000000       1.000000       0.000000       0.000000   \n",
       "75%         3.000000       1.000000       0.000000       0.000000   \n",
       "max         3.000000       1.000000       1.000000       1.000000   \n",
       "\n",
       "              Accept  \n",
       "count  145659.000000  \n",
       "mean        0.220041  \n",
       "std         0.414276  \n",
       "min         0.000000  \n",
       "25%         0.000000  \n",
       "50%         0.000000  \n",
       "75%         0.000000  \n",
       "max         1.000000  "
      ]
     },
     "execution_count": 5,
     "metadata": {},
     "output_type": "execute_result"
    }
   ],
   "source": [
    "train.describe()"
   ]
  },
  {
   "cell_type": "code",
   "execution_count": 6,
   "metadata": {
    "colab": {
     "base_uri": "https://localhost:8080/"
    },
    "id": "QxV9oHLiYNPZ",
    "outputId": "fc0fcafc-fc5c-4bed-d402-4187787ee58a"
   },
   "outputs": [
    {
     "name": "stderr",
     "output_type": "stream",
     "text": [
      "/home/user/conda/envs/ldm/lib/python3.8/site-packages/sklearn/linear_model/_logistic.py:1183: FutureWarning: `penalty='none'`has been deprecated in 1.2 and will be removed in 1.4. To keep the past behaviour, set `penalty=None`.\n",
      "  warnings.warn(\n"
     ]
    }
   ],
   "source": [
    "from sklearn.linear_model import LogisticRegression\n",
    "\n",
    "X = train[['Tier', 'FICO', 'Term', 'Amount', 'Previous_Rate', 'Competition_rate',\n",
    "           'Cost_Funds', 'Partner Bin', 'Car_Type_N', 'Car_Type_R', 'Car_Type_U', 'Rate']].values\n",
    "y = train['Accept'].values\n",
    "\n",
    "clf = LogisticRegression(random_state=0, penalty='none', fit_intercept=True, multi_class='ovr', n_jobs = 4).fit(X, y)\n",
    "probs_train = clf.predict_proba(X)[:,1]"
   ]
  },
  {
   "cell_type": "code",
   "execution_count": 7,
   "metadata": {
    "id": "KLCESAs-ZKUQ"
   },
   "outputs": [],
   "source": [
    "from sklearn.model_selection import train_test_split\n",
    "\n",
    "train_data, eval_data = train_test_split(train[:10000], test_size=0.15, shuffle=True)"
   ]
  },
  {
   "cell_type": "code",
   "execution_count": 8,
   "metadata": {
    "id": "i1nKv67AZBv5"
   },
   "outputs": [],
   "source": [
    "observations = train_data[['Tier', 'FICO', 'Term', 'Amount', 'Previous_Rate', 'Competition_rate',\n",
    "                           'Cost_Funds', 'Partner Bin', 'Car_Type_N', 'Car_Type_R', 'Car_Type_U']]\n",
    "actions = train_data['Rate']\n",
    "\n",
    "terminals = np.zeros_like(actions)\n",
    "terminals[-1] = 1"
   ]
  },
  {
   "cell_type": "code",
   "execution_count": 9,
   "metadata": {
    "id": "_jsyx8IbZkH3"
   },
   "outputs": [],
   "source": [
    "observations = observations.values\n",
    "actions = actions.values\n",
    "actions = actions.reshape(-1,1)"
   ]
  },
  {
   "cell_type": "code",
   "execution_count": 10,
   "metadata": {
    "colab": {
     "base_uri": "https://localhost:8080/"
    },
    "id": "lXT8maLkZlv5",
    "outputId": "47b11d28-fd2a-4f8a-8ca2-b7113fcbf73f"
   },
   "outputs": [
    {
     "data": {
      "text/plain": [
       "array([0.62314798, 0.48864422, 0.48851737, ..., 0.21507262, 0.72913991,\n",
       "       0.02747331])"
      ]
     },
     "execution_count": 10,
     "metadata": {},
     "output_type": "execute_result"
    }
   ],
   "source": [
    "def prob_accept(action, state):\n",
    "    if isinstance(action, (int, float)):\n",
    "        action = np.array(action)\n",
    "    action = action.reshape(-1,1)\n",
    "    if len(state.shape)==1:\n",
    "        state = state.reshape(1,-1)\n",
    "    x = np.concatenate((state, action),axis=1)\n",
    "    probs_pred = clf.predict_proba(x)[:,1]\n",
    "    return probs_pred\n",
    "\n",
    "prob_accept(actions, observations)"
   ]
  },
  {
   "cell_type": "code",
   "execution_count": 11,
   "metadata": {
    "colab": {
     "base_uri": "https://localhost:8080/"
    },
    "id": "ekET7e07ZpF6",
    "outputId": "dcf90231-cce6-4927-9c63-1b52e1d60703"
   },
   "outputs": [
    {
     "name": "stdout",
     "output_type": "stream",
     "text": [
      "[[-0.3081207  -0.2324073  -0.2322023  ... -0.09739541 -0.34719793\n",
      "  -0.01359111]\n",
      " [-0.30730391 -0.22958914 -0.22901206 ... -0.09605458 -0.34402302\n",
      "  -0.01357186]\n",
      " [-0.3070353  -0.22866235 -0.22795624 ... -0.09562471 -0.3429921\n",
      "  -0.01356569]\n",
      " ...\n",
      " [-0.30762566 -0.23069929 -0.23027251 ... -0.09657652 -0.3452663\n",
      "  -0.01357935]\n",
      " [-0.30812825 -0.23243333 -0.23223162 ... -0.09740805 -0.34722756\n",
      "  -0.01359129]\n",
      " [-0.30846189 -0.23358451 -0.2335254  ... -0.09797179 -0.34854331\n",
      "  -0.01359938]]\n"
     ]
    }
   ],
   "source": [
    "def p_default(state):\n",
    "    fico = state[:, 1]\n",
    "    default_prob = fico.copy()\n",
    "    default_prob[default_prob < 500] = 0.41\n",
    "    default_prob[default_prob >= 750] = 0.01\n",
    "    default_prob[default_prob >= 700] = 0.044\n",
    "    default_prob[default_prob >= 650] = 0.089\n",
    "    default_prob[default_prob >= 600] = 0.158\n",
    "    default_prob[default_prob >= 550] = 0.225\n",
    "    default_prob[default_prob >= 500] = 0.284\n",
    "    return default_prob\n",
    "    # return np.random.random(size=fico.shape)\n",
    "\n",
    "def reward(action, state, risk_free = 0.04, loss_ratio=0.5):\n",
    "\n",
    "    if len(state.shape)==1:\n",
    "        state = state.reshape(1,-1)\n",
    "    p_Accept= prob_accept(action, state)\n",
    "\n",
    "    Sum_loan = state[:,3]\n",
    "    Term = state[:,2]/12\n",
    "\n",
    "    p_return = p_default(state)\n",
    "\n",
    "    loss_given_default = loss_ratio*Sum_loan\n",
    "    action_rate = action/100\n",
    "    reward = (p_Accept*(Sum_loan*p_return*((1+action_rate)**Term-(1+risk_free)**Term)-(1-p_return)*loss_given_default))/Sum_loan\n",
    "\n",
    "    return reward\n",
    "\n",
    "def reward_vec(action, state, risk_free = 0.2, loss_ratio=0.5):\n",
    "    if len(state.shape)==1:\n",
    "        state = state.reshape(1,-1)\n",
    "\n",
    "    p_Accept= prob_accept(action, state)\n",
    "\n",
    "    Sum_loan = state[:,3]\n",
    "    Term = state[:,2]/12\n",
    "\n",
    "    p_return = p_default(state)\n",
    "\n",
    "    loss_given_default = loss_ratio*Sum_loan\n",
    "    action = action/100\n",
    "    reward = (p_Accept*(Sum_loan*p_return*((1+action)**Term-(1+risk_free)**Term)-(1-p_return)*loss_given_default))/Sum_loan\n",
    "\n",
    "    return reward\n",
    "#what is a risk-free rate??\n",
    "rewards = reward_vec(actions, observations, risk_free = 0.04, loss_ratio=0.5)\n",
    "\n",
    "print(rewards)\n",
    "# action = 0.3\n",
    "# state  = observations[7,:]\n",
    "# print(state.shape)\n",
    "# rewardina = reward(action, state, risk_free = 0.2, loss_ratio=0.5)"
   ]
  },
  {
   "cell_type": "code",
   "execution_count": 12,
   "metadata": {
    "id": "JPCQsc8JZ0Vz"
   },
   "outputs": [],
   "source": [
    "import gym\n",
    "\n",
    "class Env_rl_bank(gym.Env):\n",
    "    def __init__(self, dataset):\n",
    "        super(Env_rl_bank, self).__init__()\n",
    "        self.dataset = dataset\n",
    "        self.curr_state = 0\n",
    "        self.n_observation = dataset.shape[0]\n",
    "        self.observation_tensor = dataset[['Tier', 'FICO', 'Term', 'Amount', 'Previous_Rate', 'Competition_rate',\n",
    "        'Cost_Funds', 'Partner Bin', 'Car_Type_N', 'Car_Type_R','Car_Type_U']].values\n",
    "\n",
    "        self.action_space = gym.spaces.Box(low=np.array([0]), high=np.array([100]), dtype=np.float16)\n",
    "\n",
    "        self.observation_space = gym.spaces.Box(low = -10*np.ones(11)[None,:], high =  10e+10*np.ones(11)[None,:],\n",
    "                                               shape=(1,11), dtype=np.float16)\n",
    "    def step(self, action):\n",
    "        #update state\n",
    "        #return rewarn\n",
    "        #done is an indicator that the whole dataset is\n",
    "        # next_s, r, done, _ = env.step(a)\n",
    "        state  =  self.observation_tensor[self.curr_state]\n",
    "        if self.curr_state >= self.n_observation-2:\n",
    "            done = True\n",
    "        else:\n",
    "\n",
    "            done = False\n",
    "        self.curr_state +=1\n",
    "        next_s = self.observation_tensor[self.curr_state]\n",
    "        rew = reward_vec(action, state, risk_free = 0.04, loss_ratio=0.5)\n",
    "\n",
    "        info = f'reward = {rew}, at state is done = {done}'\n",
    "\n",
    "        return next_s, rew, done, info\n",
    "\n",
    "    def reset(self):\n",
    "        self.curr_state = 0\n",
    "        state  =  self.observation_tensor[self.curr_state]\n",
    "        return state\n",
    "#     def sample(self, ...):\n",
    "#         return\n"
   ]
  },
  {
   "cell_type": "code",
   "execution_count": 13,
   "metadata": {
    "colab": {
     "base_uri": "https://localhost:8080/",
     "height": 35
    },
    "id": "NhJWDAsIZx2Y",
    "outputId": "0ca76ea7-20b4-4782-c3cf-2c36adf85896"
   },
   "outputs": [
    {
     "data": {
      "text/plain": [
       "'1.1.1'"
      ]
     },
     "execution_count": 13,
     "metadata": {},
     "output_type": "execute_result"
    }
   ],
   "source": [
    "d3rlpy.__version__"
   ]
  },
  {
   "cell_type": "code",
   "execution_count": 14,
   "metadata": {
    "colab": {
     "base_uri": "https://localhost:8080/",
     "height": 596
    },
    "id": "491fEknqZ4QO",
    "outputId": "dde07f46-b646-4d95-dc24-08d6e137c9d0"
   },
   "outputs": [
    {
     "name": "stdout",
     "output_type": "stream",
     "text": [
      "\u001b[2m2023-10-22 11:53:40\u001b[0m [\u001b[33m\u001b[1mwarning  \u001b[0m] \u001b[1mUnused arguments are passed.  \u001b[0m \u001b[36mhidden_units\u001b[0m=\u001b[35m[64, 64, 64, 64]\u001b[0m \u001b[36mweight_decay\u001b[0m=\u001b[35m0.0001\u001b[0m\n"
     ]
    },
    {
     "name": "stderr",
     "output_type": "stream",
     "text": [
      "/home/user/conda/envs/ldm/lib/python3.8/site-packages/gym/spaces/box.py:127: UserWarning: \u001b[33mWARN: Box bound precision lowered by casting to float16\u001b[0m\n",
      "  logger.warn(f\"Box bound precision lowered by casting to {self.dtype}\")\n",
      "/home/user/conda/envs/ldm/lib/python3.8/site-packages/gym/spaces/box.py:129: RuntimeWarning: overflow encountered in cast\n",
      "  self.high = high.astype(self.dtype)\n"
     ]
    },
    {
     "name": "stdout",
     "output_type": "stream",
     "text": [
      "1\n",
      "\u001b[2m2023-10-22 11:53:40\u001b[0m [\u001b[32m\u001b[1mdebug    \u001b[0m] \u001b[1mRoundIterator is selected.\u001b[0m\n",
      "\u001b[2m2023-10-22 11:53:40\u001b[0m [\u001b[32m\u001b[1minfo     \u001b[0m] \u001b[1mDirectory is created at d3rlpy_logs/CQL_20231022115340\u001b[0m\n",
      "\u001b[2m2023-10-22 11:53:40\u001b[0m [\u001b[32m\u001b[1mdebug    \u001b[0m] \u001b[1mBuilding models...\u001b[0m\n",
      "\u001b[2m2023-10-22 11:53:43\u001b[0m [\u001b[32m\u001b[1mdebug    \u001b[0m] \u001b[1mModels have been built.\u001b[0m\n",
      "\u001b[2m2023-10-22 11:53:43\u001b[0m [\u001b[32m\u001b[1minfo     \u001b[0m] \u001b[1mParameters are saved to d3rlpy_logs/CQL_20231022115340/params.json\u001b[0m \u001b[36mparams\u001b[0m=\u001b[35m{'action_scaler': None, 'actor_encoder_factory': {'type': 'default', 'params': {'activation': 'relu', 'use_batch_norm': False, 'dropout_rate': None}}, 'actor_learning_rate': 0.0001, 'actor_optim_factory': {'optim_cls': 'Adam', 'betas': (0.9, 0.999), 'eps': 1e-08, 'weight_decay': 0, 'amsgrad': False}, 'alpha_learning_rate': 0.0001, 'alpha_optim_factory': {'optim_cls': 'Adam', 'betas': (0.9, 0.999), 'eps': 1e-08, 'weight_decay': 0, 'amsgrad': False}, 'alpha_threshold': 10, 'batch_size': 256, 'conservative_weight': 5, 'critic_encoder_factory': {'type': 'default', 'params': {'activation': 'relu', 'use_batch_norm': False, 'dropout_rate': None}}, 'critic_learning_rate': 0.0003, 'critic_optim_factory': {'optim_cls': 'Adam', 'betas': (0.9, 0.999), 'eps': 1e-08, 'weight_decay': 0, 'amsgrad': False}, 'gamma': 0.999, 'generated_maxlen': 100000, 'initial_alpha': 1.0, 'initial_temperature': 1.0, 'n_action_samples': 10, 'n_critics': 2, 'n_frames': 1, 'n_steps': 5, 'q_func_factory': {'type': 'mean', 'params': {'share_encoder': False}}, 'real_ratio': 1.0, 'reward_scaler': None, 'scaler': None, 'soft_q_backup': False, 'tau': 0.005, 'temp_learning_rate': 0.0001, 'temp_optim_factory': {'optim_cls': 'Adam', 'betas': (0.9, 0.999), 'eps': 1e-08, 'weight_decay': 0, 'amsgrad': False}, 'use_gpu': 0, 'algorithm': 'CQL', 'observation_shape': (11,), 'action_size': 1}\u001b[0m\n"
     ]
    },
    {
     "data": {
      "application/vnd.jupyter.widget-view+json": {
       "model_id": "a379379839d84acd8d0852c77c6b6fef",
       "version_major": 2,
       "version_minor": 0
      },
      "text/plain": [
       "Epoch 1/20:   0%|          | 0/33 [00:00<?, ?it/s]"
      ]
     },
     "metadata": {},
     "output_type": "display_data"
    },
    {
     "name": "stdout",
     "output_type": "stream",
     "text": [
      "\u001b[2m2023-10-22 11:55:36\u001b[0m [\u001b[32m\u001b[1minfo     \u001b[0m] \u001b[1mCQL_20231022115340: epoch=1 step=33\u001b[0m \u001b[36mepoch\u001b[0m=\u001b[35m1\u001b[0m \u001b[36mmetrics\u001b[0m=\u001b[35m{'time_sample_batch': 0.0004996241945208925, 'time_algorithm_update': 0.05783060102751761, 'temp_loss': 1.6237169468041621, 'temp': 0.9983071594527273, 'alpha_loss': -5.713383327830922, 'alpha': 1.0015706546378857, 'critic_loss': 10.68881232810743, 'actor_loss': -0.2387076055235935, 'time_step': 0.05842078093326453, 'environment': -2340.686983344406, 'td_error': 2.746102146156842}\u001b[0m \u001b[36mstep\u001b[0m=\u001b[35m33\u001b[0m\n",
      "\u001b[2m2023-10-22 11:55:36\u001b[0m [\u001b[32m\u001b[1minfo     \u001b[0m] \u001b[1mModel parameters are saved to d3rlpy_logs/CQL_20231022115340/model_33.pt\u001b[0m\n"
     ]
    },
    {
     "data": {
      "application/vnd.jupyter.widget-view+json": {
       "model_id": "849cf64cdfe243d8b460fb9f54ddf08b",
       "version_major": 2,
       "version_minor": 0
      },
      "text/plain": [
       "Epoch 2/20:   0%|          | 0/33 [00:00<?, ?it/s]"
      ]
     },
     "metadata": {},
     "output_type": "display_data"
    },
    {
     "name": "stdout",
     "output_type": "stream",
     "text": [
      "\u001b[2m2023-10-22 11:57:28\u001b[0m [\u001b[32m\u001b[1minfo     \u001b[0m] \u001b[1mCQL_20231022115340: epoch=2 step=66\u001b[0m \u001b[36mepoch\u001b[0m=\u001b[35m2\u001b[0m \u001b[36mmetrics\u001b[0m=\u001b[35m{'time_sample_batch': 0.0005211974635268703, 'time_algorithm_update': 0.03426418159947251, 'temp_loss': 1.6371877590815227, 'temp': 0.9950189861384305, 'alpha_loss': -1.9886429960077459, 'alpha': 1.0039760343956226, 'critic_loss': 11.551553653948234, 'actor_loss': 0.3965475062529246, 'time_step': 0.03487339164271499, 'environment': -2340.686983344406, 'td_error': 2.4598990317365392}\u001b[0m \u001b[36mstep\u001b[0m=\u001b[35m66\u001b[0m\n",
      "\u001b[2m2023-10-22 11:57:28\u001b[0m [\u001b[32m\u001b[1minfo     \u001b[0m] \u001b[1mModel parameters are saved to d3rlpy_logs/CQL_20231022115340/model_66.pt\u001b[0m\n"
     ]
    },
    {
     "data": {
      "application/vnd.jupyter.widget-view+json": {
       "model_id": "5590adb5041e4a46a10980982c74f663",
       "version_major": 2,
       "version_minor": 0
      },
      "text/plain": [
       "Epoch 3/20:   0%|          | 0/33 [00:00<?, ?it/s]"
      ]
     },
     "metadata": {},
     "output_type": "display_data"
    },
    {
     "name": "stderr",
     "output_type": "stream",
     "text": [
      "/home/user/conda/envs/ldm/lib/python3.8/site-packages/sklearn/linear_model/_logistic.py:460: ConvergenceWarning: lbfgs failed to converge (status=1):\n",
      "STOP: TOTAL NO. of ITERATIONS REACHED LIMIT.\n",
      "\n",
      "Increase the number of iterations (max_iter) or scale the data as shown in:\n",
      "    https://scikit-learn.org/stable/modules/preprocessing.html\n",
      "Please also refer to the documentation for alternative solver options:\n",
      "    https://scikit-learn.org/stable/modules/linear_model.html#logistic-regression\n",
      "  n_iter_i = _check_optimize_result(\n"
     ]
    },
    {
     "name": "stdout",
     "output_type": "stream",
     "text": [
      "\u001b[2m2023-10-22 11:59:22\u001b[0m [\u001b[32m\u001b[1minfo     \u001b[0m] \u001b[1mCQL_20231022115340: epoch=3 step=99\u001b[0m \u001b[36mepoch\u001b[0m=\u001b[35m3\u001b[0m \u001b[36mmetrics\u001b[0m=\u001b[35m{'time_sample_batch': 0.00044319123932809543, 'time_algorithm_update': 0.02808962446270567, 'temp_loss': 1.6321363593592788, 'temp': 0.9917215072747433, 'alpha_loss': 2.231393072867032, 'alpha': 1.004785758076292, 'critic_loss': 2.5081376541744578, 'actor_loss': 1.3371190266175703, 'time_step': 0.028604442423040218, 'environment': -1874.6092434976824, 'td_error': 5.523020461788358}\u001b[0m \u001b[36mstep\u001b[0m=\u001b[35m99\u001b[0m\n",
      "\u001b[2m2023-10-22 11:59:22\u001b[0m [\u001b[32m\u001b[1minfo     \u001b[0m] \u001b[1mModel parameters are saved to d3rlpy_logs/CQL_20231022115340/model_99.pt\u001b[0m\n"
     ]
    },
    {
     "data": {
      "application/vnd.jupyter.widget-view+json": {
       "model_id": "c0a1b8a43b89461a97e3c2e3728f2460",
       "version_major": 2,
       "version_minor": 0
      },
      "text/plain": [
       "Epoch 4/20:   0%|          | 0/33 [00:00<?, ?it/s]"
      ]
     },
     "metadata": {},
     "output_type": "display_data"
    },
    {
     "name": "stdout",
     "output_type": "stream",
     "text": [
      "\u001b[2m2023-10-22 12:01:15\u001b[0m [\u001b[32m\u001b[1minfo     \u001b[0m] \u001b[1mCQL_20231022115340: epoch=4 step=132\u001b[0m \u001b[36mepoch\u001b[0m=\u001b[35m4\u001b[0m \u001b[36mmetrics\u001b[0m=\u001b[35m{'time_sample_batch': 0.00039578206611402106, 'time_algorithm_update': 0.021527608235677082, 'temp_loss': 1.592938806071426, 'temp': 0.9884913672100414, 'alpha_loss': 9.315725355437309, 'alpha': 1.0018555395530933, 'critic_loss': -5.213120980696245, 'actor_loss': 2.870165037386345, 'time_step': 0.02198583429509943, 'environment': -1874.6092434976824, 'td_error': 15.084121294814512}\u001b[0m \u001b[36mstep\u001b[0m=\u001b[35m132\u001b[0m\n",
      "\u001b[2m2023-10-22 12:01:15\u001b[0m [\u001b[32m\u001b[1minfo     \u001b[0m] \u001b[1mModel parameters are saved to d3rlpy_logs/CQL_20231022115340/model_132.pt\u001b[0m\n"
     ]
    },
    {
     "data": {
      "application/vnd.jupyter.widget-view+json": {
       "model_id": "b6813767be08416cb0e66d04b434bbe1",
       "version_major": 2,
       "version_minor": 0
      },
      "text/plain": [
       "Epoch 5/20:   0%|          | 0/33 [00:00<?, ?it/s]"
      ]
     },
     "metadata": {},
     "output_type": "display_data"
    },
    {
     "name": "stdout",
     "output_type": "stream",
     "text": [
      "\u001b[2m2023-10-22 12:03:08\u001b[0m [\u001b[32m\u001b[1minfo     \u001b[0m] \u001b[1mCQL_20231022115340: epoch=5 step=165\u001b[0m \u001b[36mepoch\u001b[0m=\u001b[35m5\u001b[0m \u001b[36mmetrics\u001b[0m=\u001b[35m{'time_sample_batch': 0.0003860791524251302, 'time_algorithm_update': 0.021605101498690518, 'temp_loss': 1.52327996673006, 'temp': 0.9853008859085314, 'alpha_loss': 18.889006412390508, 'alpha': 0.9958358623764731, 'critic_loss': -2.429726831840746, 'actor_loss': 5.260635578271114, 'time_step': 0.02205169562137488, 'environment': -1874.6092434976824, 'td_error': 24.937937001131466}\u001b[0m \u001b[36mstep\u001b[0m=\u001b[35m165\u001b[0m\n",
      "\u001b[2m2023-10-22 12:03:08\u001b[0m [\u001b[32m\u001b[1minfo     \u001b[0m] \u001b[1mModel parameters are saved to d3rlpy_logs/CQL_20231022115340/model_165.pt\u001b[0m\n"
     ]
    },
    {
     "data": {
      "application/vnd.jupyter.widget-view+json": {
       "model_id": "5d9f965fcb904cea8e8fd8e2f038bbac",
       "version_major": 2,
       "version_minor": 0
      },
      "text/plain": [
       "Epoch 6/20:   0%|          | 0/33 [00:00<?, ?it/s]"
      ]
     },
     "metadata": {},
     "output_type": "display_data"
    },
    {
     "name": "stdout",
     "output_type": "stream",
     "text": [
      "\u001b[2m2023-10-22 12:05:01\u001b[0m [\u001b[32m\u001b[1minfo     \u001b[0m] \u001b[1mCQL_20231022115340: epoch=6 step=198\u001b[0m \u001b[36mepoch\u001b[0m=\u001b[35m6\u001b[0m \u001b[36mmetrics\u001b[0m=\u001b[35m{'time_sample_batch': 0.0004002975695060961, 'time_algorithm_update': 0.021437103098089046, 'temp_loss': 1.4339276335456155, 'temp': 0.9822487379565383, 'alpha_loss': 32.75629846977465, 'alpha': 0.9891944328943888, 'critic_loss': -21.661388455015242, 'actor_loss': 8.725455891002309, 'time_step': 0.021897641095248135, 'environment': -1874.6092434976824, 'td_error': 57.01309185949101}\u001b[0m \u001b[36mstep\u001b[0m=\u001b[35m198\u001b[0m\n",
      "\u001b[2m2023-10-22 12:05:01\u001b[0m [\u001b[32m\u001b[1minfo     \u001b[0m] \u001b[1mModel parameters are saved to d3rlpy_logs/CQL_20231022115340/model_198.pt\u001b[0m\n"
     ]
    },
    {
     "data": {
      "application/vnd.jupyter.widget-view+json": {
       "model_id": "dae1f941b9514ef1a4b40f14fb074ab4",
       "version_major": 2,
       "version_minor": 0
      },
      "text/plain": [
       "Epoch 7/20:   0%|          | 0/33 [00:00<?, ?it/s]"
      ]
     },
     "metadata": {},
     "output_type": "display_data"
    },
    {
     "name": "stdout",
     "output_type": "stream",
     "text": [
      "\u001b[2m2023-10-22 12:06:54\u001b[0m [\u001b[32m\u001b[1minfo     \u001b[0m] \u001b[1mCQL_20231022115340: epoch=7 step=231\u001b[0m \u001b[36mepoch\u001b[0m=\u001b[35m7\u001b[0m \u001b[36mmetrics\u001b[0m=\u001b[35m{'time_sample_batch': 0.0003809350909608783, 'time_algorithm_update': 0.02142929308342211, 'temp_loss': 1.2007782793406285, 'temp': 0.9794514811400211, 'alpha_loss': 45.94932082205108, 'alpha': 0.9822942614555359, 'critic_loss': 45.381129987312086, 'actor_loss': 11.867464499040084, 'time_step': 0.021870230183456883, 'environment': -1874.6092434976824, 'td_error': 79.42596346357463}\u001b[0m \u001b[36mstep\u001b[0m=\u001b[35m231\u001b[0m\n",
      "\u001b[2m2023-10-22 12:06:54\u001b[0m [\u001b[32m\u001b[1minfo     \u001b[0m] \u001b[1mModel parameters are saved to d3rlpy_logs/CQL_20231022115340/model_231.pt\u001b[0m\n"
     ]
    },
    {
     "data": {
      "application/vnd.jupyter.widget-view+json": {
       "model_id": "c7cfdb1e5b414b67a6b1e013c7d33d6f",
       "version_major": 2,
       "version_minor": 0
      },
      "text/plain": [
       "Epoch 8/20:   0%|          | 0/33 [00:00<?, ?it/s]"
      ]
     },
     "metadata": {},
     "output_type": "display_data"
    },
    {
     "name": "stdout",
     "output_type": "stream",
     "text": [
      "\u001b[2m2023-10-22 12:08:46\u001b[0m [\u001b[32m\u001b[1minfo     \u001b[0m] \u001b[1mCQL_20231022115340: epoch=8 step=264\u001b[0m \u001b[36mepoch\u001b[0m=\u001b[35m8\u001b[0m \u001b[36mmetrics\u001b[0m=\u001b[35m{'time_sample_batch': 0.0003866860360810251, 'time_algorithm_update': 0.02151966817451246, 'temp_loss': 1.1622975197705356, 'temp': 0.9768798730590127, 'alpha_loss': 49.338066563461766, 'alpha': 0.9760470787684122, 'critic_loss': 16.491232322924066, 'actor_loss': 11.8220346624201, 'time_step': 0.0219673676924272, 'environment': -1874.6092434976824, 'td_error': 104.93138094197766}\u001b[0m \u001b[36mstep\u001b[0m=\u001b[35m264\u001b[0m\n",
      "\u001b[2m2023-10-22 12:08:46\u001b[0m [\u001b[32m\u001b[1minfo     \u001b[0m] \u001b[1mModel parameters are saved to d3rlpy_logs/CQL_20231022115340/model_264.pt\u001b[0m\n"
     ]
    },
    {
     "data": {
      "application/vnd.jupyter.widget-view+json": {
       "model_id": "6c9d40d0145e4853899117478c995db6",
       "version_major": 2,
       "version_minor": 0
      },
      "text/plain": [
       "Epoch 9/20:   0%|          | 0/33 [00:00<?, ?it/s]"
      ]
     },
     "metadata": {},
     "output_type": "display_data"
    },
    {
     "name": "stdout",
     "output_type": "stream",
     "text": [
      "\u001b[2m2023-10-22 12:10:39\u001b[0m [\u001b[32m\u001b[1minfo     \u001b[0m] \u001b[1mCQL_20231022115340: epoch=9 step=297\u001b[0m \u001b[36mepoch\u001b[0m=\u001b[35m9\u001b[0m \u001b[36mmetrics\u001b[0m=\u001b[35m{'time_sample_batch': 0.0003819321141098485, 'time_algorithm_update': 0.021539738683989555, 'temp_loss': 1.0699425809311145, 'temp': 0.9744376269253817, 'alpha_loss': 67.68974477594548, 'alpha': 0.9701059623198076, 'critic_loss': -37.969658475933656, 'actor_loss': 15.542186014580004, 'time_step': 0.021982633706295128, 'environment': -1874.6092434976824, 'td_error': 146.65724929379633}\u001b[0m \u001b[36mstep\u001b[0m=\u001b[35m297\u001b[0m\n",
      "\u001b[2m2023-10-22 12:10:39\u001b[0m [\u001b[32m\u001b[1minfo     \u001b[0m] \u001b[1mModel parameters are saved to d3rlpy_logs/CQL_20231022115340/model_297.pt\u001b[0m\n"
     ]
    },
    {
     "data": {
      "application/vnd.jupyter.widget-view+json": {
       "model_id": "8de975a1da0c47418c60e41d73f8cad2",
       "version_major": 2,
       "version_minor": 0
      },
      "text/plain": [
       "Epoch 10/20:   0%|          | 0/33 [00:00<?, ?it/s]"
      ]
     },
     "metadata": {},
     "output_type": "display_data"
    },
    {
     "name": "stdout",
     "output_type": "stream",
     "text": [
      "\u001b[2m2023-10-22 12:12:32\u001b[0m [\u001b[32m\u001b[1minfo     \u001b[0m] \u001b[1mCQL_20231022115340: epoch=10 step=330\u001b[0m \u001b[36mepoch\u001b[0m=\u001b[35m10\u001b[0m \u001b[36mmetrics\u001b[0m=\u001b[35m{'time_sample_batch': 0.00038440299756599194, 'time_algorithm_update': 0.021460627064560398, 'temp_loss': 0.6150846029772903, 'temp': 0.9722709583513665, 'alpha_loss': 82.41363825942531, 'alpha': 0.9639386137326559, 'critic_loss': -54.66073492801551, 'actor_loss': 20.078582474679656, 'time_step': 0.021905053745616566, 'environment': -1874.6092434976824, 'td_error': 217.59944362973732}\u001b[0m \u001b[36mstep\u001b[0m=\u001b[35m330\u001b[0m\n",
      "\u001b[2m2023-10-22 12:12:32\u001b[0m [\u001b[32m\u001b[1minfo     \u001b[0m] \u001b[1mModel parameters are saved to d3rlpy_logs/CQL_20231022115340/model_330.pt\u001b[0m\n"
     ]
    },
    {
     "data": {
      "application/vnd.jupyter.widget-view+json": {
       "model_id": "aeaa766f00064e069e6462ed8ee130a8",
       "version_major": 2,
       "version_minor": 0
      },
      "text/plain": [
       "Epoch 11/20:   0%|          | 0/33 [00:00<?, ?it/s]"
      ]
     },
     "metadata": {},
     "output_type": "display_data"
    },
    {
     "name": "stdout",
     "output_type": "stream",
     "text": [
      "\u001b[2m2023-10-22 12:14:26\u001b[0m [\u001b[32m\u001b[1minfo     \u001b[0m] \u001b[1mCQL_20231022115340: epoch=11 step=363\u001b[0m \u001b[36mepoch\u001b[0m=\u001b[35m11\u001b[0m \u001b[36mmetrics\u001b[0m=\u001b[35m{'time_sample_batch': 0.0003883910901618726, 'time_algorithm_update': 0.02154266473018762, 'temp_loss': 0.4119911187074401, 'temp': 0.9709123969078064, 'alpha_loss': 100.77102406819661, 'alpha': 0.9577433503035343, 'critic_loss': -86.17533955429539, 'actor_loss': 25.34544037327622, 'time_step': 0.021990523193821762, 'environment': -1874.6092434976824, 'td_error': 325.03443405384115}\u001b[0m \u001b[36mstep\u001b[0m=\u001b[35m363\u001b[0m\n",
      "\u001b[2m2023-10-22 12:14:26\u001b[0m [\u001b[32m\u001b[1minfo     \u001b[0m] \u001b[1mModel parameters are saved to d3rlpy_logs/CQL_20231022115340/model_363.pt\u001b[0m\n"
     ]
    },
    {
     "data": {
      "application/vnd.jupyter.widget-view+json": {
       "model_id": "2b28e6bd14ba4e2b83f9b30c70404288",
       "version_major": 2,
       "version_minor": 0
      },
      "text/plain": [
       "Epoch 12/20:   0%|          | 0/33 [00:00<?, ?it/s]"
      ]
     },
     "metadata": {},
     "output_type": "display_data"
    },
    {
     "name": "stdout",
     "output_type": "stream",
     "text": [
      "\u001b[2m2023-10-22 12:16:34\u001b[0m [\u001b[32m\u001b[1minfo     \u001b[0m] \u001b[1mCQL_20231022115340: epoch=12 step=396\u001b[0m \u001b[36mepoch\u001b[0m=\u001b[35m12\u001b[0m \u001b[36mmetrics\u001b[0m=\u001b[35m{'time_sample_batch': 0.000431602651422674, 'time_algorithm_update': 0.027480009830359257, 'temp_loss': 0.11017769445298296, 'temp': 0.9701588876319654, 'alpha_loss': 121.6657846624201, 'alpha': 0.9514844706564238, 'critic_loss': -90.16615676879883, 'actor_loss': 30.87291284040971, 'time_step': 0.02798249504782937, 'environment': -1874.6092434976824, 'td_error': 442.908262552799}\u001b[0m \u001b[36mstep\u001b[0m=\u001b[35m396\u001b[0m\n",
      "\u001b[2m2023-10-22 12:16:34\u001b[0m [\u001b[32m\u001b[1minfo     \u001b[0m] \u001b[1mModel parameters are saved to d3rlpy_logs/CQL_20231022115340/model_396.pt\u001b[0m\n"
     ]
    },
    {
     "data": {
      "application/vnd.jupyter.widget-view+json": {
       "model_id": "0d8b404c8bfe428a9311c69768532b36",
       "version_major": 2,
       "version_minor": 0
      },
      "text/plain": [
       "Epoch 13/20:   0%|          | 0/33 [00:00<?, ?it/s]"
      ]
     },
     "metadata": {},
     "output_type": "display_data"
    },
    {
     "name": "stdout",
     "output_type": "stream",
     "text": [
      "\u001b[2m2023-10-22 12:18:43\u001b[0m [\u001b[32m\u001b[1minfo     \u001b[0m] \u001b[1mCQL_20231022115340: epoch=13 step=429\u001b[0m \u001b[36mepoch\u001b[0m=\u001b[35m13\u001b[0m \u001b[36mmetrics\u001b[0m=\u001b[35m{'time_sample_batch': 0.0004086060957475142, 'time_algorithm_update': 0.03166440761450565, 'temp_loss': -0.13216229545121844, 'temp': 0.9699635884978555, 'alpha_loss': 146.7492439963601, 'alpha': 0.9452715407718312, 'critic_loss': -118.91581841671106, 'actor_loss': 38.15061326460405, 'time_step': 0.032144170818906845, 'environment': -1874.6092434976824, 'td_error': 650.7476795278353}\u001b[0m \u001b[36mstep\u001b[0m=\u001b[35m429\u001b[0m\n",
      "\u001b[2m2023-10-22 12:18:43\u001b[0m [\u001b[32m\u001b[1minfo     \u001b[0m] \u001b[1mModel parameters are saved to d3rlpy_logs/CQL_20231022115340/model_429.pt\u001b[0m\n"
     ]
    },
    {
     "data": {
      "application/vnd.jupyter.widget-view+json": {
       "model_id": "70aef4c1758a494e87aef67c55a317e4",
       "version_major": 2,
       "version_minor": 0
      },
      "text/plain": [
       "Epoch 14/20:   0%|          | 0/33 [00:00<?, ?it/s]"
      ]
     },
     "metadata": {},
     "output_type": "display_data"
    },
    {
     "name": "stdout",
     "output_type": "stream",
     "text": [
      "\u001b[2m2023-10-22 12:20:52\u001b[0m [\u001b[32m\u001b[1minfo     \u001b[0m] \u001b[1mCQL_20231022115340: epoch=14 step=462\u001b[0m \u001b[36mepoch\u001b[0m=\u001b[35m14\u001b[0m \u001b[36mmetrics\u001b[0m=\u001b[35m{'time_sample_batch': 0.0004115610411672881, 'time_algorithm_update': 0.03212561751856948, 'temp_loss': -0.30598966924078536, 'temp': 0.9704222715262211, 'alpha_loss': 179.71335671164772, 'alpha': 0.9389442512483308, 'critic_loss': -153.7265731349136, 'actor_loss': 48.11664904970111, 'time_step': 0.03260627659884366, 'environment': -1874.6092434976824, 'td_error': 994.103305361667}\u001b[0m \u001b[36mstep\u001b[0m=\u001b[35m462\u001b[0m\n",
      "\u001b[2m2023-10-22 12:20:52\u001b[0m [\u001b[32m\u001b[1minfo     \u001b[0m] \u001b[1mModel parameters are saved to d3rlpy_logs/CQL_20231022115340/model_462.pt\u001b[0m\n"
     ]
    },
    {
     "data": {
      "application/vnd.jupyter.widget-view+json": {
       "model_id": "64ff50379be440baba9353a24545faca",
       "version_major": 2,
       "version_minor": 0
      },
      "text/plain": [
       "Epoch 15/20:   0%|          | 0/33 [00:00<?, ?it/s]"
      ]
     },
     "metadata": {},
     "output_type": "display_data"
    },
    {
     "name": "stdout",
     "output_type": "stream",
     "text": [
      "\u001b[2m2023-10-22 12:23:01\u001b[0m [\u001b[32m\u001b[1minfo     \u001b[0m] \u001b[1mCQL_20231022115340: epoch=15 step=495\u001b[0m \u001b[36mepoch\u001b[0m=\u001b[35m15\u001b[0m \u001b[36mmetrics\u001b[0m=\u001b[35m{'time_sample_batch': 0.0004231785282944188, 'time_algorithm_update': 0.03222853487188166, 'temp_loss': -0.7074340256777677, 'temp': 0.9716423713799679, 'alpha_loss': 219.27998213334516, 'alpha': 0.9324591466874788, 'critic_loss': -177.7603514700225, 'actor_loss': 60.0228298071659, 'time_step': 0.03272714759364272, 'environment': -1874.6092434976824, 'td_error': 1389.1026779294057}\u001b[0m \u001b[36mstep\u001b[0m=\u001b[35m495\u001b[0m\n",
      "\u001b[2m2023-10-22 12:23:01\u001b[0m [\u001b[32m\u001b[1minfo     \u001b[0m] \u001b[1mModel parameters are saved to d3rlpy_logs/CQL_20231022115340/model_495.pt\u001b[0m\n"
     ]
    },
    {
     "data": {
      "application/vnd.jupyter.widget-view+json": {
       "model_id": "5e6b841c7c3443ca8320d6a6956ec95d",
       "version_major": 2,
       "version_minor": 0
      },
      "text/plain": [
       "Epoch 16/20:   0%|          | 0/33 [00:00<?, ?it/s]"
      ]
     },
     "metadata": {},
     "output_type": "display_data"
    },
    {
     "name": "stdout",
     "output_type": "stream",
     "text": [
      "\u001b[2m2023-10-22 12:24:54\u001b[0m [\u001b[32m\u001b[1minfo     \u001b[0m] \u001b[1mCQL_20231022115340: epoch=16 step=528\u001b[0m \u001b[36mepoch\u001b[0m=\u001b[35m16\u001b[0m \u001b[36mmetrics\u001b[0m=\u001b[35m{'time_sample_batch': 0.0004634784929680102, 'time_algorithm_update': 0.031099124388261276, 'temp_loss': -0.9518701759251681, 'temp': 0.9737807765151515, 'alpha_loss': 261.31396438136244, 'alpha': 0.9259273138913241, 'critic_loss': -217.0195890484434, 'actor_loss': 73.54899227257931, 'time_step': 0.0316428415703051, 'environment': -1874.6092434976824, 'td_error': 2130.369864562529}\u001b[0m \u001b[36mstep\u001b[0m=\u001b[35m528\u001b[0m\n",
      "\u001b[2m2023-10-22 12:24:54\u001b[0m [\u001b[32m\u001b[1minfo     \u001b[0m] \u001b[1mModel parameters are saved to d3rlpy_logs/CQL_20231022115340/model_528.pt\u001b[0m\n"
     ]
    },
    {
     "data": {
      "application/vnd.jupyter.widget-view+json": {
       "model_id": "001cf9d0213f492b995132e3e548a7bf",
       "version_major": 2,
       "version_minor": 0
      },
      "text/plain": [
       "Epoch 17/20:   0%|          | 0/33 [00:00<?, ?it/s]"
      ]
     },
     "metadata": {},
     "output_type": "display_data"
    },
    {
     "name": "stdout",
     "output_type": "stream",
     "text": [
      "\u001b[2m2023-10-22 12:26:48\u001b[0m [\u001b[32m\u001b[1minfo     \u001b[0m] \u001b[1mCQL_20231022115340: epoch=17 step=561\u001b[0m \u001b[36mepoch\u001b[0m=\u001b[35m17\u001b[0m \u001b[36mmetrics\u001b[0m=\u001b[35m{'time_sample_batch': 0.0004762013753255208, 'time_algorithm_update': 0.031874223188920456, 'temp_loss': -1.174212117989858, 'temp': 0.9767458818175576, 'alpha_loss': 319.4331267385772, 'alpha': 0.9193204388473973, 'critic_loss': -253.7155401056463, 'actor_loss': 92.00234291770242, 'time_step': 0.032428040648951675, 'environment': -1874.6092434976824, 'td_error': 3158.7772475582924}\u001b[0m \u001b[36mstep\u001b[0m=\u001b[35m561\u001b[0m\n",
      "\u001b[2m2023-10-22 12:26:48\u001b[0m [\u001b[32m\u001b[1minfo     \u001b[0m] \u001b[1mModel parameters are saved to d3rlpy_logs/CQL_20231022115340/model_561.pt\u001b[0m\n"
     ]
    },
    {
     "data": {
      "application/vnd.jupyter.widget-view+json": {
       "model_id": "cc711939e49146f9bf007aededec462c",
       "version_major": 2,
       "version_minor": 0
      },
      "text/plain": [
       "Epoch 18/20:   0%|          | 0/33 [00:00<?, ?it/s]"
      ]
     },
     "metadata": {},
     "output_type": "display_data"
    },
    {
     "name": "stdout",
     "output_type": "stream",
     "text": [
      "\u001b[2m2023-10-22 12:28:41\u001b[0m [\u001b[32m\u001b[1minfo     \u001b[0m] \u001b[1mCQL_20231022115340: epoch=18 step=594\u001b[0m \u001b[36mepoch\u001b[0m=\u001b[35m18\u001b[0m \u001b[36mmetrics\u001b[0m=\u001b[35m{'time_sample_batch': 0.00043946323972759825, 'time_algorithm_update': 0.027440331198952415, 'temp_loss': -1.4111106305411367, 'temp': 0.9803627043059377, 'alpha_loss': 383.92847234552556, 'alpha': 0.9126209183172747, 'critic_loss': -291.0142563328599, 'actor_loss': 113.43180939645478, 'time_step': 0.027950770927198006, 'environment': -1874.6092434976824, 'td_error': 4656.6735249392195}\u001b[0m \u001b[36mstep\u001b[0m=\u001b[35m594\u001b[0m\n",
      "\u001b[2m2023-10-22 12:28:41\u001b[0m [\u001b[32m\u001b[1minfo     \u001b[0m] \u001b[1mModel parameters are saved to d3rlpy_logs/CQL_20231022115340/model_594.pt\u001b[0m\n"
     ]
    },
    {
     "data": {
      "application/vnd.jupyter.widget-view+json": {
       "model_id": "e40c4b011f084cae825f9d35d82f2431",
       "version_major": 2,
       "version_minor": 0
      },
      "text/plain": [
       "Epoch 19/20:   0%|          | 0/33 [00:00<?, ?it/s]"
      ]
     },
     "metadata": {},
     "output_type": "display_data"
    },
    {
     "name": "stdout",
     "output_type": "stream",
     "text": [
      "\u001b[2m2023-10-22 12:30:35\u001b[0m [\u001b[32m\u001b[1minfo     \u001b[0m] \u001b[1mCQL_20231022115340: epoch=19 step=627\u001b[0m \u001b[36mepoch\u001b[0m=\u001b[35m19\u001b[0m \u001b[36mmetrics\u001b[0m=\u001b[35m{'time_sample_batch': 0.0004314870545358369, 'time_algorithm_update': 0.028003974394364792, 'temp_loss': -1.7222281513792095, 'temp': 0.9846776001381151, 'alpha_loss': 461.1324990012429, 'alpha': 0.905869747653152, 'critic_loss': -325.61476967551494, 'actor_loss': 139.36203211004084, 'time_step': 0.02850619951883952, 'environment': -1874.6092434976824, 'td_error': 6751.576025436997}\u001b[0m \u001b[36mstep\u001b[0m=\u001b[35m627\u001b[0m\n",
      "\u001b[2m2023-10-22 12:30:35\u001b[0m [\u001b[32m\u001b[1minfo     \u001b[0m] \u001b[1mModel parameters are saved to d3rlpy_logs/CQL_20231022115340/model_627.pt\u001b[0m\n"
     ]
    },
    {
     "data": {
      "application/vnd.jupyter.widget-view+json": {
       "model_id": "16fd4b10b09945a5935df9f56c95a9e5",
       "version_major": 2,
       "version_minor": 0
      },
      "text/plain": [
       "Epoch 20/20:   0%|          | 0/33 [00:00<?, ?it/s]"
      ]
     },
     "metadata": {},
     "output_type": "display_data"
    },
    {
     "name": "stdout",
     "output_type": "stream",
     "text": [
      "\u001b[2m2023-10-22 12:32:28\u001b[0m [\u001b[32m\u001b[1minfo     \u001b[0m] \u001b[1mCQL_20231022115340: epoch=20 step=660\u001b[0m \u001b[36mepoch\u001b[0m=\u001b[35m20\u001b[0m \u001b[36mmetrics\u001b[0m=\u001b[35m{'time_sample_batch': 0.0004469625877611565, 'time_algorithm_update': 0.029152516162756718, 'temp_loss': -1.9584094972321482, 'temp': 0.9895264452153986, 'alpha_loss': 548.5615983442826, 'alpha': 0.8990937814568029, 'critic_loss': -337.4928329930161, 'actor_loss': 169.1609797622218, 'time_step': 0.029675881067911785, 'environment': -1874.6092434976824, 'td_error': 9328.10997401086}\u001b[0m \u001b[36mstep\u001b[0m=\u001b[35m660\u001b[0m\n",
      "\u001b[2m2023-10-22 12:32:28\u001b[0m [\u001b[32m\u001b[1minfo     \u001b[0m] \u001b[1mModel parameters are saved to d3rlpy_logs/CQL_20231022115340/model_660.pt\u001b[0m\n"
     ]
    },
    {
     "data": {
      "text/plain": [
       "[(1,\n",
       "  {'time_sample_batch': 0.0004996241945208925,\n",
       "   'time_algorithm_update': 0.05783060102751761,\n",
       "   'temp_loss': 1.6237169468041621,\n",
       "   'temp': 0.9983071594527273,\n",
       "   'alpha_loss': -5.713383327830922,\n",
       "   'alpha': 1.0015706546378857,\n",
       "   'critic_loss': 10.68881232810743,\n",
       "   'actor_loss': -0.2387076055235935,\n",
       "   'time_step': 0.05842078093326453,\n",
       "   'environment': -2340.686983344406,\n",
       "   'td_error': 2.746102146156842}),\n",
       " (2,\n",
       "  {'time_sample_batch': 0.0005211974635268703,\n",
       "   'time_algorithm_update': 0.03426418159947251,\n",
       "   'temp_loss': 1.6371877590815227,\n",
       "   'temp': 0.9950189861384305,\n",
       "   'alpha_loss': -1.9886429960077459,\n",
       "   'alpha': 1.0039760343956226,\n",
       "   'critic_loss': 11.551553653948234,\n",
       "   'actor_loss': 0.3965475062529246,\n",
       "   'time_step': 0.03487339164271499,\n",
       "   'environment': -2340.686983344406,\n",
       "   'td_error': 2.4598990317365392}),\n",
       " (3,\n",
       "  {'time_sample_batch': 0.00044319123932809543,\n",
       "   'time_algorithm_update': 0.02808962446270567,\n",
       "   'temp_loss': 1.6321363593592788,\n",
       "   'temp': 0.9917215072747433,\n",
       "   'alpha_loss': 2.231393072867032,\n",
       "   'alpha': 1.004785758076292,\n",
       "   'critic_loss': 2.5081376541744578,\n",
       "   'actor_loss': 1.3371190266175703,\n",
       "   'time_step': 0.028604442423040218,\n",
       "   'environment': -1874.6092434976824,\n",
       "   'td_error': 5.523020461788358}),\n",
       " (4,\n",
       "  {'time_sample_batch': 0.00039578206611402106,\n",
       "   'time_algorithm_update': 0.021527608235677082,\n",
       "   'temp_loss': 1.592938806071426,\n",
       "   'temp': 0.9884913672100414,\n",
       "   'alpha_loss': 9.315725355437309,\n",
       "   'alpha': 1.0018555395530933,\n",
       "   'critic_loss': -5.213120980696245,\n",
       "   'actor_loss': 2.870165037386345,\n",
       "   'time_step': 0.02198583429509943,\n",
       "   'environment': -1874.6092434976824,\n",
       "   'td_error': 15.084121294814512}),\n",
       " (5,\n",
       "  {'time_sample_batch': 0.0003860791524251302,\n",
       "   'time_algorithm_update': 0.021605101498690518,\n",
       "   'temp_loss': 1.52327996673006,\n",
       "   'temp': 0.9853008859085314,\n",
       "   'alpha_loss': 18.889006412390508,\n",
       "   'alpha': 0.9958358623764731,\n",
       "   'critic_loss': -2.429726831840746,\n",
       "   'actor_loss': 5.260635578271114,\n",
       "   'time_step': 0.02205169562137488,\n",
       "   'environment': -1874.6092434976824,\n",
       "   'td_error': 24.937937001131466}),\n",
       " (6,\n",
       "  {'time_sample_batch': 0.0004002975695060961,\n",
       "   'time_algorithm_update': 0.021437103098089046,\n",
       "   'temp_loss': 1.4339276335456155,\n",
       "   'temp': 0.9822487379565383,\n",
       "   'alpha_loss': 32.75629846977465,\n",
       "   'alpha': 0.9891944328943888,\n",
       "   'critic_loss': -21.661388455015242,\n",
       "   'actor_loss': 8.725455891002309,\n",
       "   'time_step': 0.021897641095248135,\n",
       "   'environment': -1874.6092434976824,\n",
       "   'td_error': 57.01309185949101}),\n",
       " (7,\n",
       "  {'time_sample_batch': 0.0003809350909608783,\n",
       "   'time_algorithm_update': 0.02142929308342211,\n",
       "   'temp_loss': 1.2007782793406285,\n",
       "   'temp': 0.9794514811400211,\n",
       "   'alpha_loss': 45.94932082205108,\n",
       "   'alpha': 0.9822942614555359,\n",
       "   'critic_loss': 45.381129987312086,\n",
       "   'actor_loss': 11.867464499040084,\n",
       "   'time_step': 0.021870230183456883,\n",
       "   'environment': -1874.6092434976824,\n",
       "   'td_error': 79.42596346357463}),\n",
       " (8,\n",
       "  {'time_sample_batch': 0.0003866860360810251,\n",
       "   'time_algorithm_update': 0.02151966817451246,\n",
       "   'temp_loss': 1.1622975197705356,\n",
       "   'temp': 0.9768798730590127,\n",
       "   'alpha_loss': 49.338066563461766,\n",
       "   'alpha': 0.9760470787684122,\n",
       "   'critic_loss': 16.491232322924066,\n",
       "   'actor_loss': 11.8220346624201,\n",
       "   'time_step': 0.0219673676924272,\n",
       "   'environment': -1874.6092434976824,\n",
       "   'td_error': 104.93138094197766}),\n",
       " (9,\n",
       "  {'time_sample_batch': 0.0003819321141098485,\n",
       "   'time_algorithm_update': 0.021539738683989555,\n",
       "   'temp_loss': 1.0699425809311145,\n",
       "   'temp': 0.9744376269253817,\n",
       "   'alpha_loss': 67.68974477594548,\n",
       "   'alpha': 0.9701059623198076,\n",
       "   'critic_loss': -37.969658475933656,\n",
       "   'actor_loss': 15.542186014580004,\n",
       "   'time_step': 0.021982633706295128,\n",
       "   'environment': -1874.6092434976824,\n",
       "   'td_error': 146.65724929379633}),\n",
       " (10,\n",
       "  {'time_sample_batch': 0.00038440299756599194,\n",
       "   'time_algorithm_update': 0.021460627064560398,\n",
       "   'temp_loss': 0.6150846029772903,\n",
       "   'temp': 0.9722709583513665,\n",
       "   'alpha_loss': 82.41363825942531,\n",
       "   'alpha': 0.9639386137326559,\n",
       "   'critic_loss': -54.66073492801551,\n",
       "   'actor_loss': 20.078582474679656,\n",
       "   'time_step': 0.021905053745616566,\n",
       "   'environment': -1874.6092434976824,\n",
       "   'td_error': 217.59944362973732}),\n",
       " (11,\n",
       "  {'time_sample_batch': 0.0003883910901618726,\n",
       "   'time_algorithm_update': 0.02154266473018762,\n",
       "   'temp_loss': 0.4119911187074401,\n",
       "   'temp': 0.9709123969078064,\n",
       "   'alpha_loss': 100.77102406819661,\n",
       "   'alpha': 0.9577433503035343,\n",
       "   'critic_loss': -86.17533955429539,\n",
       "   'actor_loss': 25.34544037327622,\n",
       "   'time_step': 0.021990523193821762,\n",
       "   'environment': -1874.6092434976824,\n",
       "   'td_error': 325.03443405384115}),\n",
       " (12,\n",
       "  {'time_sample_batch': 0.000431602651422674,\n",
       "   'time_algorithm_update': 0.027480009830359257,\n",
       "   'temp_loss': 0.11017769445298296,\n",
       "   'temp': 0.9701588876319654,\n",
       "   'alpha_loss': 121.6657846624201,\n",
       "   'alpha': 0.9514844706564238,\n",
       "   'critic_loss': -90.16615676879883,\n",
       "   'actor_loss': 30.87291284040971,\n",
       "   'time_step': 0.02798249504782937,\n",
       "   'environment': -1874.6092434976824,\n",
       "   'td_error': 442.908262552799}),\n",
       " (13,\n",
       "  {'time_sample_batch': 0.0004086060957475142,\n",
       "   'time_algorithm_update': 0.03166440761450565,\n",
       "   'temp_loss': -0.13216229545121844,\n",
       "   'temp': 0.9699635884978555,\n",
       "   'alpha_loss': 146.7492439963601,\n",
       "   'alpha': 0.9452715407718312,\n",
       "   'critic_loss': -118.91581841671106,\n",
       "   'actor_loss': 38.15061326460405,\n",
       "   'time_step': 0.032144170818906845,\n",
       "   'environment': -1874.6092434976824,\n",
       "   'td_error': 650.7476795278353}),\n",
       " (14,\n",
       "  {'time_sample_batch': 0.0004115610411672881,\n",
       "   'time_algorithm_update': 0.03212561751856948,\n",
       "   'temp_loss': -0.30598966924078536,\n",
       "   'temp': 0.9704222715262211,\n",
       "   'alpha_loss': 179.71335671164772,\n",
       "   'alpha': 0.9389442512483308,\n",
       "   'critic_loss': -153.7265731349136,\n",
       "   'actor_loss': 48.11664904970111,\n",
       "   'time_step': 0.03260627659884366,\n",
       "   'environment': -1874.6092434976824,\n",
       "   'td_error': 994.103305361667}),\n",
       " (15,\n",
       "  {'time_sample_batch': 0.0004231785282944188,\n",
       "   'time_algorithm_update': 0.03222853487188166,\n",
       "   'temp_loss': -0.7074340256777677,\n",
       "   'temp': 0.9716423713799679,\n",
       "   'alpha_loss': 219.27998213334516,\n",
       "   'alpha': 0.9324591466874788,\n",
       "   'critic_loss': -177.7603514700225,\n",
       "   'actor_loss': 60.0228298071659,\n",
       "   'time_step': 0.03272714759364272,\n",
       "   'environment': -1874.6092434976824,\n",
       "   'td_error': 1389.1026779294057}),\n",
       " (16,\n",
       "  {'time_sample_batch': 0.0004634784929680102,\n",
       "   'time_algorithm_update': 0.031099124388261276,\n",
       "   'temp_loss': -0.9518701759251681,\n",
       "   'temp': 0.9737807765151515,\n",
       "   'alpha_loss': 261.31396438136244,\n",
       "   'alpha': 0.9259273138913241,\n",
       "   'critic_loss': -217.0195890484434,\n",
       "   'actor_loss': 73.54899227257931,\n",
       "   'time_step': 0.0316428415703051,\n",
       "   'environment': -1874.6092434976824,\n",
       "   'td_error': 2130.369864562529}),\n",
       " (17,\n",
       "  {'time_sample_batch': 0.0004762013753255208,\n",
       "   'time_algorithm_update': 0.031874223188920456,\n",
       "   'temp_loss': -1.174212117989858,\n",
       "   'temp': 0.9767458818175576,\n",
       "   'alpha_loss': 319.4331267385772,\n",
       "   'alpha': 0.9193204388473973,\n",
       "   'critic_loss': -253.7155401056463,\n",
       "   'actor_loss': 92.00234291770242,\n",
       "   'time_step': 0.032428040648951675,\n",
       "   'environment': -1874.6092434976824,\n",
       "   'td_error': 3158.7772475582924}),\n",
       " (18,\n",
       "  {'time_sample_batch': 0.00043946323972759825,\n",
       "   'time_algorithm_update': 0.027440331198952415,\n",
       "   'temp_loss': -1.4111106305411367,\n",
       "   'temp': 0.9803627043059377,\n",
       "   'alpha_loss': 383.92847234552556,\n",
       "   'alpha': 0.9126209183172747,\n",
       "   'critic_loss': -291.0142563328599,\n",
       "   'actor_loss': 113.43180939645478,\n",
       "   'time_step': 0.027950770927198006,\n",
       "   'environment': -1874.6092434976824,\n",
       "   'td_error': 4656.6735249392195}),\n",
       " (19,\n",
       "  {'time_sample_batch': 0.0004314870545358369,\n",
       "   'time_algorithm_update': 0.028003974394364792,\n",
       "   'temp_loss': -1.7222281513792095,\n",
       "   'temp': 0.9846776001381151,\n",
       "   'alpha_loss': 461.1324990012429,\n",
       "   'alpha': 0.905869747653152,\n",
       "   'critic_loss': -325.61476967551494,\n",
       "   'actor_loss': 139.36203211004084,\n",
       "   'time_step': 0.02850619951883952,\n",
       "   'environment': -1874.6092434976824,\n",
       "   'td_error': 6751.576025436997}),\n",
       " (20,\n",
       "  {'time_sample_batch': 0.0004469625877611565,\n",
       "   'time_algorithm_update': 0.029152516162756718,\n",
       "   'temp_loss': -1.9584094972321482,\n",
       "   'temp': 0.9895264452153986,\n",
       "   'alpha_loss': 548.5615983442826,\n",
       "   'alpha': 0.8990937814568029,\n",
       "   'critic_loss': -337.4928329930161,\n",
       "   'actor_loss': 169.1609797622218,\n",
       "   'time_step': 0.029675881067911785,\n",
       "   'environment': -1874.6092434976824,\n",
       "   'td_error': 9328.10997401086})]"
      ]
     },
     "execution_count": 14,
     "metadata": {},
     "output_type": "execute_result"
    }
   ],
   "source": [
    "# prepare dataset\n",
    "#dataset, env = d3rlpy.datasets.get_d4rl('hopper-medium-v0')\n",
    "\n",
    "# prepare algorithm\n",
    "#do not forget  about cql parametres in a paper\n",
    "cql = d3rlpy.algos.CQL(use_gpu=True, n_steps=5,\n",
    "                       batch_size = 256,\n",
    "                        hidden_units = [64, 64, 64, 64], weight_decay =0.0001,\n",
    "gamma = 0.999, n_critics =2,alpha_threshold=10,conservative_weight=5,)\n",
    "                       \n",
    "\n",
    "       \n",
    "                    \n",
    "\n",
    "env  = Env_rl_bank(train_data)\n",
    "terminals = np.random.randint(2, size = actions.shape[0])\n",
    "\n",
    "dataset = d3rlpy.dataset.MDPDataset(\n",
    "    observations=observations,\n",
    "    actions=actions,\n",
    "    rewards=rewards,\n",
    "    terminals=terminals,\n",
    "\n",
    ")\n",
    "eval_obs = eval_data[['Tier', 'FICO', 'Term', 'Amount', 'Previous_Rate', 'Competition_rate',\n",
    "        'Cost_Funds', 'Partner Bin', 'Car_Type_N', 'Car_Type_R','Car_Type_U']].values\n",
    "eval_actions = eval_data['Rate'].values.reshape(-1,1)\n",
    "\n",
    "eval_rewards = reward_vec(eval_actions, eval_obs, risk_free = 0.04, loss_ratio=0.5)\n",
    "eval_terminals = np.zeros_like(eval_actions)\n",
    "\n",
    "eval_dataset = d3rlpy.dataset.MDPDataset(\n",
    "    observations=eval_obs,\n",
    "    actions=eval_actions,\n",
    "    rewards=eval_rewards,\n",
    "    terminals=eval_terminals,)\n",
    "\n",
    "\n",
    "print(dataset.get_action_size())\n",
    "#print(dataset.episodes)\n",
    "# correct format for observations, actions, rewards, terminals\n",
    "# observation = [...,...,..,]\n",
    "# rewards = reward()\n",
    "# actions =interest rate path\n",
    "#terminals = \n",
    "\n",
    "# First of all, you need to prepare your logged data. \n",
    "# In this tutorial, let’s use randomly generated data.\n",
    "# terminals represents the last step of episodes. \n",
    "# If terminals[i] == 1.0, i-th step is the terminal state. \n",
    "# Otherwise you need to set zeros for non-terminal states.\n",
    "\n",
    "# train\n",
    "cql.fit(\n",
    "    dataset,\n",
    "    eval_episodes=dataset,\n",
    "    n_epochs=20,\n",
    "\n",
    "    scorers={'environment': d3rlpy.metrics.evaluate_on_environment(env),\n",
    "            'td_error': d3rlpy.metrics.td_error_scorer,},)"
   ]
  },
  {
   "cell_type": "markdown",
   "metadata": {
    "id": "jbDGLy7NF0nF",
    "tags": []
   },
   "source": [
    "# Inference"
   ]
  },
  {
   "cell_type": "code",
   "execution_count": 18,
   "metadata": {
    "id": "CnHSRAddT3Vl"
   },
   "outputs": [],
   "source": [
    "from sklearn.model_selection import train_test_split\n",
    "test_data = pd.read_csv('test_data.csv')"
   ]
  },
  {
   "cell_type": "code",
   "execution_count": 32,
   "metadata": {
    "colab": {
     "base_uri": "https://localhost:8080/",
     "height": 425
    },
    "id": "vDNu4l51F0nF",
    "outputId": "cbbc67c2-9eab-47e4-d394-ddbd81a8b849"
   },
   "outputs": [
    {
     "name": "stderr",
     "output_type": "stream",
     "text": [
      "/home/user/conda/envs/ldm/lib/python3.8/site-packages/gym/spaces/box.py:127: UserWarning: \u001b[33mWARN: Box bound precision lowered by casting to float16\u001b[0m\n",
      "  logger.warn(f\"Box bound precision lowered by casting to {self.dtype}\")\n",
      "/home/user/conda/envs/ldm/lib/python3.8/site-packages/gym/spaces/box.py:129: RuntimeWarning: overflow encountered in cast\n",
      "  self.high = high.astype(self.dtype)\n"
     ]
    },
    {
     "ename": "AssertionError",
     "evalue": "Input must have batch dimension.",
     "output_type": "error",
     "traceback": [
      "\u001b[0;31m---------------------------------------------------------------------------\u001b[0m",
      "\u001b[0;31mAssertionError\u001b[0m                            Traceback (most recent call last)",
      "Cell \u001b[0;32mIn[32], line 12\u001b[0m\n\u001b[1;32m     10\u001b[0m rewards_cql \u001b[38;5;241m=\u001b[39m []\n\u001b[1;32m     11\u001b[0m \u001b[38;5;28;01mfor\u001b[39;00m step_i \u001b[38;5;129;01min\u001b[39;00m \u001b[38;5;28mrange\u001b[39m(\u001b[38;5;28mlen\u001b[39m(test_data)):\n\u001b[0;32m---> 12\u001b[0m     actions \u001b[38;5;241m=\u001b[39m \u001b[43mcql\u001b[49m\u001b[38;5;241;43m.\u001b[39;49m\u001b[43mpredict\u001b[49m\u001b[43m(\u001b[49m\u001b[43mstate\u001b[49m\u001b[43m)\u001b[49m\n\u001b[1;32m     13\u001b[0m     next_state, rew, done, info \u001b[38;5;241m=\u001b[39m env\u001b[38;5;241m.\u001b[39mstep(test_actions)\n\u001b[1;32m     14\u001b[0m     rewards_cql\u001b[38;5;241m.\u001b[39mappend(rew)\n",
      "File \u001b[0;32m/home/user/conda/envs/ldm/lib/python3.8/site-packages/d3rlpy/algos/base.py:127\u001b[0m, in \u001b[0;36mAlgoBase.predict\u001b[0;34m(self, x)\u001b[0m\n\u001b[1;32m    108\u001b[0m \u001b[38;5;250m\u001b[39m\u001b[38;5;124;03m\"\"\"Returns greedy actions.\u001b[39;00m\n\u001b[1;32m    109\u001b[0m \n\u001b[1;32m    110\u001b[0m \u001b[38;5;124;03m.. code-block:: python\u001b[39;00m\n\u001b[0;32m   (...)\u001b[0m\n\u001b[1;32m    124\u001b[0m \n\u001b[1;32m    125\u001b[0m \u001b[38;5;124;03m\"\"\"\u001b[39;00m\n\u001b[1;32m    126\u001b[0m \u001b[38;5;28;01massert\u001b[39;00m \u001b[38;5;28mself\u001b[39m\u001b[38;5;241m.\u001b[39m_impl \u001b[38;5;129;01mis\u001b[39;00m \u001b[38;5;129;01mnot\u001b[39;00m \u001b[38;5;28;01mNone\u001b[39;00m, IMPL_NOT_INITIALIZED_ERROR\n\u001b[0;32m--> 127\u001b[0m \u001b[38;5;28;01mreturn\u001b[39;00m \u001b[38;5;28;43mself\u001b[39;49m\u001b[38;5;241;43m.\u001b[39;49m\u001b[43m_impl\u001b[49m\u001b[38;5;241;43m.\u001b[39;49m\u001b[43mpredict_best_action\u001b[49m\u001b[43m(\u001b[49m\u001b[43mx\u001b[49m\u001b[43m)\u001b[49m\n",
      "File \u001b[0;32m/home/user/conda/envs/ldm/lib/python3.8/site-packages/d3rlpy/torch_utility.py:305\u001b[0m, in \u001b[0;36meval_api.<locals>.wrapper\u001b[0;34m(self, *args, **kwargs)\u001b[0m\n\u001b[1;32m    303\u001b[0m \u001b[38;5;28;01mdef\u001b[39;00m \u001b[38;5;21mwrapper\u001b[39m(\u001b[38;5;28mself\u001b[39m: Any, \u001b[38;5;241m*\u001b[39margs: Any, \u001b[38;5;241m*\u001b[39m\u001b[38;5;241m*\u001b[39mkwargs: Any) \u001b[38;5;241m-\u001b[39m\u001b[38;5;241m>\u001b[39m np\u001b[38;5;241m.\u001b[39mndarray:\n\u001b[1;32m    304\u001b[0m     set_eval_mode(\u001b[38;5;28mself\u001b[39m)\n\u001b[0;32m--> 305\u001b[0m     \u001b[38;5;28;01mreturn\u001b[39;00m \u001b[43mf\u001b[49m\u001b[43m(\u001b[49m\u001b[38;5;28;43mself\u001b[39;49m\u001b[43m,\u001b[49m\u001b[43m \u001b[49m\u001b[38;5;241;43m*\u001b[39;49m\u001b[43margs\u001b[49m\u001b[43m,\u001b[49m\u001b[43m \u001b[49m\u001b[38;5;241;43m*\u001b[39;49m\u001b[38;5;241;43m*\u001b[39;49m\u001b[43mkwargs\u001b[49m\u001b[43m)\u001b[49m\n",
      "File \u001b[0;32m/home/user/conda/envs/ldm/lib/python3.8/site-packages/d3rlpy/torch_utility.py:295\u001b[0m, in \u001b[0;36mtorch_api.<locals>._torch_api.<locals>.wrapper\u001b[0;34m(self, *args, **kwargs)\u001b[0m\n\u001b[1;32m    292\u001b[0m             tensor \u001b[38;5;241m=\u001b[39m tensor\u001b[38;5;241m.\u001b[39mfloat()\n\u001b[1;32m    294\u001b[0m     tensors\u001b[38;5;241m.\u001b[39mappend(tensor)\n\u001b[0;32m--> 295\u001b[0m \u001b[38;5;28;01mreturn\u001b[39;00m \u001b[43mf\u001b[49m\u001b[43m(\u001b[49m\u001b[38;5;28;43mself\u001b[39;49m\u001b[43m,\u001b[49m\u001b[43m \u001b[49m\u001b[38;5;241;43m*\u001b[39;49m\u001b[43mtensors\u001b[49m\u001b[43m,\u001b[49m\u001b[43m \u001b[49m\u001b[38;5;241;43m*\u001b[39;49m\u001b[38;5;241;43m*\u001b[39;49m\u001b[43mkwargs\u001b[49m\u001b[43m)\u001b[49m\n",
      "File \u001b[0;32m/home/user/conda/envs/ldm/lib/python3.8/site-packages/d3rlpy/algos/torch/base.py:55\u001b[0m, in \u001b[0;36mTorchImplBase.predict_best_action\u001b[0;34m(self, x)\u001b[0m\n\u001b[1;32m     52\u001b[0m \u001b[38;5;129m@eval_api\u001b[39m\n\u001b[1;32m     53\u001b[0m \u001b[38;5;129m@torch_api\u001b[39m(scaler_targets\u001b[38;5;241m=\u001b[39m[\u001b[38;5;124m\"\u001b[39m\u001b[38;5;124mx\u001b[39m\u001b[38;5;124m\"\u001b[39m])\n\u001b[1;32m     54\u001b[0m \u001b[38;5;28;01mdef\u001b[39;00m \u001b[38;5;21mpredict_best_action\u001b[39m(\u001b[38;5;28mself\u001b[39m, x: torch\u001b[38;5;241m.\u001b[39mTensor) \u001b[38;5;241m-\u001b[39m\u001b[38;5;241m>\u001b[39m np\u001b[38;5;241m.\u001b[39mndarray:\n\u001b[0;32m---> 55\u001b[0m     \u001b[38;5;28;01massert\u001b[39;00m x\u001b[38;5;241m.\u001b[39mndim \u001b[38;5;241m>\u001b[39m \u001b[38;5;241m1\u001b[39m, \u001b[38;5;124m\"\u001b[39m\u001b[38;5;124mInput must have batch dimension.\u001b[39m\u001b[38;5;124m\"\u001b[39m\n\u001b[1;32m     57\u001b[0m     \u001b[38;5;28;01mwith\u001b[39;00m torch\u001b[38;5;241m.\u001b[39mno_grad():\n\u001b[1;32m     58\u001b[0m         action \u001b[38;5;241m=\u001b[39m \u001b[38;5;28mself\u001b[39m\u001b[38;5;241m.\u001b[39m_predict_best_action(x)\n",
      "\u001b[0;31mAssertionError\u001b[0m: Input must have batch dimension."
     ]
    }
   ],
   "source": [
    "# use policy  and collect reward??\n",
    "# How to check???\n",
    "\n",
    "test_actions = test_data['Rate'].values\n",
    "test_states = test_data[['Tier', 'FICO', 'Term', 'Amount', 'Previous_Rate', 'Competition_rate',\n",
    "        'Cost_Funds', 'Partner Bin', 'Car_Type_N', 'Car_Type_R','Car_Type_U']].values\n",
    "hist_rewards_test = reward_vec(test_actions, test_states, risk_free = 0.04, loss_ratio=0.5)\n",
    "env  = Env_rl_bank(test_data)\n",
    "state = env.reset()\n",
    "rewards_cql = []\n",
    "for step_i in range(len(test_data)):\n",
    "    actions = cql.predict(state)\n",
    "    next_state, rew, done, info = env.step(test_actions)\n",
    "    rewards_cql.append(rew)\n",
    "    state = next_state\n",
    "\n",
    "\n"
   ]
  },
  {
   "cell_type": "code",
   "execution_count": 29,
   "metadata": {
    "colab": {
     "base_uri": "https://localhost:8080/",
     "height": 187
    },
    "id": "jo6nwEKeTiik",
    "outputId": "6391ceb7-eb30-43de-866c-9aa81fd4bf69"
   },
   "outputs": [],
   "source": [
    "cum_sum_rew_cql = np.cumsum(rewards_cql)\n",
    "cum_sum_rew_hist = np.cumsum(hist_rewards_test)"
   ]
  },
  {
   "cell_type": "code",
   "execution_count": 30,
   "metadata": {},
   "outputs": [
    {
     "data": {
      "text/plain": [
       "(array([-1.47296613e-03, -1.14274973e-01, -1.19916873e-01, ...,\n",
       "        -2.77118592e+03, -2.77119159e+03, -2.77133017e+03]),\n",
       " array([], dtype=float64))"
      ]
     },
     "execution_count": 30,
     "metadata": {},
     "output_type": "execute_result"
    }
   ],
   "source": [
    "cum_sum_rew_hist, cum_sum_rew_cql"
   ]
  },
  {
   "cell_type": "code",
   "execution_count": null,
   "metadata": {},
   "outputs": [],
   "source": []
  },
  {
   "cell_type": "code",
   "execution_count": null,
   "metadata": {},
   "outputs": [],
   "source": []
  },
  {
   "cell_type": "code",
   "execution_count": null,
   "metadata": {},
   "outputs": [],
   "source": []
  }
 ],
 "metadata": {
  "accelerator": "GPU",
  "colab": {
   "provenance": []
  },
  "gpuClass": "standard",
  "kernelspec": {
   "display_name": "ldm",
   "language": "python",
   "name": "ldm"
  },
  "language_info": {
   "codemirror_mode": {
    "name": "ipython",
    "version": 3
   },
   "file_extension": ".py",
   "mimetype": "text/x-python",
   "name": "python",
   "nbconvert_exporter": "python",
   "pygments_lexer": "ipython3",
   "version": "3.8.5"
  }
 },
 "nbformat": 4,
 "nbformat_minor": 4
}

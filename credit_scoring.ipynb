{
 "cells": [
  {
   "cell_type": "markdown",
   "metadata": {},
   "source": [
    "### Import packages"
   ]
  },
  {
   "cell_type": "code",
   "execution_count": 1,
   "metadata": {
    "colab": {
     "base_uri": "https://localhost:8080/"
    },
    "id": "3v-S_tFIg7Ry",
    "outputId": "1e2612bf-b4e0-43d9-c13a-558b154b11f0"
   },
   "outputs": [
    {
     "name": "stdout",
     "output_type": "stream",
     "text": [
      "/bin/bash: matplotlib: command not found\n"
     ]
    }
   ],
   "source": [
    "import matplotlib.pyplot as plt\n",
    "!matplotlib inline"
   ]
  },
  {
   "cell_type": "code",
   "execution_count": 2,
   "metadata": {
    "id": "YSSpSc5TC2Kj"
   },
   "outputs": [
    {
     "name": "stderr",
     "output_type": "stream",
     "text": [
      "/home/orogov/improved-diffusion/anaconda3/envs/rl/lib/python3.8/site-packages/tqdm/auto.py:21: TqdmWarning: IProgress not found. Please update jupyter and ipywidgets. See https://ipywidgets.readthedocs.io/en/stable/user_install.html\n",
      "  from .autonotebook import tqdm as notebook_tqdm\n"
     ]
    }
   ],
   "source": [
    "from pathlib import Path\n",
    "import time\n",
    "\n",
    "import pandas as pd\n",
    "import numpy as np\n",
    "import gym\n",
    "from sklearn.linear_model import LogisticRegression\n",
    "from sklearn.model_selection import train_test_split\n",
    "\n",
    "import d3rlpy"
   ]
  },
  {
   "cell_type": "markdown",
   "metadata": {},
   "source": [
    "### Read and preprocess data"
   ]
  },
  {
   "cell_type": "code",
   "execution_count": 3,
   "metadata": {},
   "outputs": [],
   "source": [
    "data_dir = Path('data')\n",
    "\n",
    "train = pd.read_csv(data_dir / 'train_data.csv')\n",
    "test = pd.read_csv(data_dir / 'test_data.csv')"
   ]
  },
  {
   "cell_type": "code",
   "execution_count": 4,
   "metadata": {
    "colab": {
     "base_uri": "https://localhost:8080/",
     "height": 224
    },
    "id": "Dk68SvgxPijE",
    "outputId": "f6e2640b-05cd-490d-f768-fdba8e479089"
   },
   "outputs": [
    {
     "data": {
      "text/plain": [
       "7.625268573157815"
      ]
     },
     "execution_count": 4,
     "metadata": {},
     "output_type": "execute_result"
    }
   ],
   "source": [
    "def fill_unknown_previous_rate(data, mean=None):\n",
    "    \"\"\"Estimate unknown previous rate with mean value\n",
    "    \"\"\"\n",
    "    data['Previous_Rate_Known'] = (data['Previous_Rate'] != -10)\n",
    "    \n",
    "    prev_rate = data['Previous_Rate'].copy()\n",
    "    if mean:\n",
    "        prev_rate_mean = mean\n",
    "    else:\n",
    "        prev_rate_mean = prev_rate[prev_rate != -10].mean()\n",
    "    \n",
    "    prev_rate[prev_rate == -10] = prev_rate_mean\n",
    "    data['Previous_Rate'] = prev_rate\n",
    "    \n",
    "    return prev_rate_mean\n",
    "\n",
    "prev_rate_mean = fill_unknown_previous_rate(train)\n",
    "fill_unknown_previous_rate(test, prev_rate_mean)"
   ]
  },
  {
   "cell_type": "code",
   "execution_count": 5,
   "metadata": {},
   "outputs": [
    {
     "data": {
      "text/html": [
       "<div>\n",
       "<style scoped>\n",
       "    .dataframe tbody tr th:only-of-type {\n",
       "        vertical-align: middle;\n",
       "    }\n",
       "\n",
       "    .dataframe tbody tr th {\n",
       "        vertical-align: top;\n",
       "    }\n",
       "\n",
       "    .dataframe thead th {\n",
       "        text-align: right;\n",
       "    }\n",
       "</style>\n",
       "<table border=\"1\" class=\"dataframe\">\n",
       "  <thead>\n",
       "    <tr style=\"text-align: right;\">\n",
       "      <th></th>\n",
       "      <th>Tier</th>\n",
       "      <th>FICO</th>\n",
       "      <th>Term</th>\n",
       "      <th>Amount</th>\n",
       "      <th>Previous_Rate</th>\n",
       "      <th>Competition_rate</th>\n",
       "      <th>Rate</th>\n",
       "      <th>Cost_Funds</th>\n",
       "      <th>Partner Bin</th>\n",
       "      <th>Car_Type_N</th>\n",
       "      <th>Car_Type_R</th>\n",
       "      <th>Car_Type_U</th>\n",
       "      <th>Accept</th>\n",
       "      <th>Previous_Rate_Known</th>\n",
       "    </tr>\n",
       "  </thead>\n",
       "  <tbody>\n",
       "    <tr>\n",
       "      <th>0</th>\n",
       "      <td>2</td>\n",
       "      <td>725</td>\n",
       "      <td>72</td>\n",
       "      <td>30500.0</td>\n",
       "      <td>5.000000</td>\n",
       "      <td>6.09</td>\n",
       "      <td>4.99</td>\n",
       "      <td>1.120</td>\n",
       "      <td>2</td>\n",
       "      <td>0</td>\n",
       "      <td>1</td>\n",
       "      <td>0</td>\n",
       "      <td>0</td>\n",
       "      <td>True</td>\n",
       "    </tr>\n",
       "    <tr>\n",
       "      <th>1</th>\n",
       "      <td>1</td>\n",
       "      <td>739</td>\n",
       "      <td>60</td>\n",
       "      <td>25995.0</td>\n",
       "      <td>7.625269</td>\n",
       "      <td>4.79</td>\n",
       "      <td>4.79</td>\n",
       "      <td>1.959</td>\n",
       "      <td>2</td>\n",
       "      <td>0</td>\n",
       "      <td>0</td>\n",
       "      <td>1</td>\n",
       "      <td>0</td>\n",
       "      <td>False</td>\n",
       "    </tr>\n",
       "    <tr>\n",
       "      <th>2</th>\n",
       "      <td>1</td>\n",
       "      <td>781</td>\n",
       "      <td>60</td>\n",
       "      <td>39000.0</td>\n",
       "      <td>7.625269</td>\n",
       "      <td>4.25</td>\n",
       "      <td>4.25</td>\n",
       "      <td>1.120</td>\n",
       "      <td>2</td>\n",
       "      <td>1</td>\n",
       "      <td>0</td>\n",
       "      <td>0</td>\n",
       "      <td>0</td>\n",
       "      <td>False</td>\n",
       "    </tr>\n",
       "  </tbody>\n",
       "</table>\n",
       "</div>"
      ],
      "text/plain": [
       "   Tier  FICO  Term   Amount  Previous_Rate  Competition_rate  Rate  \\\n",
       "0     2   725    72  30500.0       5.000000              6.09  4.99   \n",
       "1     1   739    60  25995.0       7.625269              4.79  4.79   \n",
       "2     1   781    60  39000.0       7.625269              4.25  4.25   \n",
       "\n",
       "   Cost_Funds  Partner Bin  Car_Type_N  Car_Type_R  Car_Type_U  Accept  \\\n",
       "0       1.120            2           0           1           0       0   \n",
       "1       1.959            2           0           0           1       0   \n",
       "2       1.120            2           1           0           0       0   \n",
       "\n",
       "   Previous_Rate_Known  \n",
       "0                 True  \n",
       "1                False  \n",
       "2                False  "
      ]
     },
     "execution_count": 5,
     "metadata": {},
     "output_type": "execute_result"
    }
   ],
   "source": [
    "# samples\n",
    "train.head(3)"
   ]
  },
  {
   "cell_type": "code",
   "execution_count": 6,
   "metadata": {
    "colab": {
     "base_uri": "https://localhost:8080/",
     "height": 320
    },
    "id": "up-g2jVGejor",
    "outputId": "c7795913-c4e1-41ff-89ce-023be1a34112"
   },
   "outputs": [
    {
     "data": {
      "text/html": [
       "<div>\n",
       "<style scoped>\n",
       "    .dataframe tbody tr th:only-of-type {\n",
       "        vertical-align: middle;\n",
       "    }\n",
       "\n",
       "    .dataframe tbody tr th {\n",
       "        vertical-align: top;\n",
       "    }\n",
       "\n",
       "    .dataframe thead th {\n",
       "        text-align: right;\n",
       "    }\n",
       "</style>\n",
       "<table border=\"1\" class=\"dataframe\">\n",
       "  <thead>\n",
       "    <tr style=\"text-align: right;\">\n",
       "      <th></th>\n",
       "      <th>Tier</th>\n",
       "      <th>FICO</th>\n",
       "      <th>Term</th>\n",
       "      <th>Amount</th>\n",
       "      <th>Previous_Rate</th>\n",
       "      <th>Competition_rate</th>\n",
       "      <th>Rate</th>\n",
       "      <th>Cost_Funds</th>\n",
       "      <th>Partner Bin</th>\n",
       "      <th>Car_Type_N</th>\n",
       "      <th>Car_Type_R</th>\n",
       "      <th>Car_Type_U</th>\n",
       "      <th>Accept</th>\n",
       "    </tr>\n",
       "  </thead>\n",
       "  <tbody>\n",
       "    <tr>\n",
       "      <th>count</th>\n",
       "      <td>145659.000000</td>\n",
       "      <td>145659.000000</td>\n",
       "      <td>145659.000000</td>\n",
       "      <td>145659.000000</td>\n",
       "      <td>145659.000000</td>\n",
       "      <td>145659.000000</td>\n",
       "      <td>145659.000000</td>\n",
       "      <td>145659.000000</td>\n",
       "      <td>145659.000000</td>\n",
       "      <td>145659.000000</td>\n",
       "      <td>145659.000000</td>\n",
       "      <td>145659.000000</td>\n",
       "      <td>145659.000000</td>\n",
       "    </tr>\n",
       "    <tr>\n",
       "      <th>mean</th>\n",
       "      <td>1.928429</td>\n",
       "      <td>726.695556</td>\n",
       "      <td>56.822441</td>\n",
       "      <td>25996.819760</td>\n",
       "      <td>7.625269</td>\n",
       "      <td>4.807957</td>\n",
       "      <td>5.623998</td>\n",
       "      <td>1.329209</td>\n",
       "      <td>2.029473</td>\n",
       "      <td>0.571815</td>\n",
       "      <td>0.226865</td>\n",
       "      <td>0.201320</td>\n",
       "      <td>0.220041</td>\n",
       "    </tr>\n",
       "    <tr>\n",
       "      <th>std</th>\n",
       "      <td>1.050519</td>\n",
       "      <td>44.727756</td>\n",
       "      <td>11.201037</td>\n",
       "      <td>11125.968255</td>\n",
       "      <td>1.323102</td>\n",
       "      <td>0.586018</td>\n",
       "      <td>1.545418</td>\n",
       "      <td>0.278368</td>\n",
       "      <td>0.911097</td>\n",
       "      <td>0.494817</td>\n",
       "      <td>0.418806</td>\n",
       "      <td>0.400988</td>\n",
       "      <td>0.414276</td>\n",
       "    </tr>\n",
       "    <tr>\n",
       "      <th>min</th>\n",
       "      <td>1.000000</td>\n",
       "      <td>594.000000</td>\n",
       "      <td>36.000000</td>\n",
       "      <td>4526.620000</td>\n",
       "      <td>3.000000</td>\n",
       "      <td>2.990000</td>\n",
       "      <td>2.450000</td>\n",
       "      <td>1.020000</td>\n",
       "      <td>1.000000</td>\n",
       "      <td>0.000000</td>\n",
       "      <td>0.000000</td>\n",
       "      <td>0.000000</td>\n",
       "      <td>0.000000</td>\n",
       "    </tr>\n",
       "    <tr>\n",
       "      <th>25%</th>\n",
       "      <td>1.000000</td>\n",
       "      <td>692.000000</td>\n",
       "      <td>48.000000</td>\n",
       "      <td>17753.450000</td>\n",
       "      <td>7.625269</td>\n",
       "      <td>4.390000</td>\n",
       "      <td>4.490000</td>\n",
       "      <td>1.110000</td>\n",
       "      <td>1.000000</td>\n",
       "      <td>0.000000</td>\n",
       "      <td>0.000000</td>\n",
       "      <td>0.000000</td>\n",
       "      <td>0.000000</td>\n",
       "    </tr>\n",
       "    <tr>\n",
       "      <th>50%</th>\n",
       "      <td>2.000000</td>\n",
       "      <td>726.000000</td>\n",
       "      <td>60.000000</td>\n",
       "      <td>25000.000000</td>\n",
       "      <td>7.625269</td>\n",
       "      <td>4.790000</td>\n",
       "      <td>5.090000</td>\n",
       "      <td>1.262500</td>\n",
       "      <td>2.000000</td>\n",
       "      <td>1.000000</td>\n",
       "      <td>0.000000</td>\n",
       "      <td>0.000000</td>\n",
       "      <td>0.000000</td>\n",
       "    </tr>\n",
       "    <tr>\n",
       "      <th>75%</th>\n",
       "      <td>3.000000</td>\n",
       "      <td>762.000000</td>\n",
       "      <td>60.000000</td>\n",
       "      <td>33000.000000</td>\n",
       "      <td>7.625269</td>\n",
       "      <td>5.190000</td>\n",
       "      <td>6.390000</td>\n",
       "      <td>1.419400</td>\n",
       "      <td>3.000000</td>\n",
       "      <td>1.000000</td>\n",
       "      <td>0.000000</td>\n",
       "      <td>0.000000</td>\n",
       "      <td>0.000000</td>\n",
       "    </tr>\n",
       "    <tr>\n",
       "      <th>max</th>\n",
       "      <td>4.000000</td>\n",
       "      <td>852.000000</td>\n",
       "      <td>72.000000</td>\n",
       "      <td>100000.000000</td>\n",
       "      <td>24.000000</td>\n",
       "      <td>6.450000</td>\n",
       "      <td>15.530000</td>\n",
       "      <td>2.127000</td>\n",
       "      <td>3.000000</td>\n",
       "      <td>1.000000</td>\n",
       "      <td>1.000000</td>\n",
       "      <td>1.000000</td>\n",
       "      <td>1.000000</td>\n",
       "    </tr>\n",
       "  </tbody>\n",
       "</table>\n",
       "</div>"
      ],
      "text/plain": [
       "                Tier           FICO           Term         Amount  \\\n",
       "count  145659.000000  145659.000000  145659.000000  145659.000000   \n",
       "mean        1.928429     726.695556      56.822441   25996.819760   \n",
       "std         1.050519      44.727756      11.201037   11125.968255   \n",
       "min         1.000000     594.000000      36.000000    4526.620000   \n",
       "25%         1.000000     692.000000      48.000000   17753.450000   \n",
       "50%         2.000000     726.000000      60.000000   25000.000000   \n",
       "75%         3.000000     762.000000      60.000000   33000.000000   \n",
       "max         4.000000     852.000000      72.000000  100000.000000   \n",
       "\n",
       "       Previous_Rate  Competition_rate           Rate     Cost_Funds  \\\n",
       "count  145659.000000     145659.000000  145659.000000  145659.000000   \n",
       "mean        7.625269          4.807957       5.623998       1.329209   \n",
       "std         1.323102          0.586018       1.545418       0.278368   \n",
       "min         3.000000          2.990000       2.450000       1.020000   \n",
       "25%         7.625269          4.390000       4.490000       1.110000   \n",
       "50%         7.625269          4.790000       5.090000       1.262500   \n",
       "75%         7.625269          5.190000       6.390000       1.419400   \n",
       "max        24.000000          6.450000      15.530000       2.127000   \n",
       "\n",
       "         Partner Bin     Car_Type_N     Car_Type_R     Car_Type_U  \\\n",
       "count  145659.000000  145659.000000  145659.000000  145659.000000   \n",
       "mean        2.029473       0.571815       0.226865       0.201320   \n",
       "std         0.911097       0.494817       0.418806       0.400988   \n",
       "min         1.000000       0.000000       0.000000       0.000000   \n",
       "25%         1.000000       0.000000       0.000000       0.000000   \n",
       "50%         2.000000       1.000000       0.000000       0.000000   \n",
       "75%         3.000000       1.000000       0.000000       0.000000   \n",
       "max         3.000000       1.000000       1.000000       1.000000   \n",
       "\n",
       "              Accept  \n",
       "count  145659.000000  \n",
       "mean        0.220041  \n",
       "std         0.414276  \n",
       "min         0.000000  \n",
       "25%         0.000000  \n",
       "50%         0.000000  \n",
       "75%         0.000000  \n",
       "max         1.000000  "
      ]
     },
     "execution_count": 6,
     "metadata": {},
     "output_type": "execute_result"
    }
   ],
   "source": [
    "# statistics for training data\n",
    "train.describe()"
   ]
  },
  {
   "cell_type": "markdown",
   "metadata": {},
   "source": [
    "### Train response probabilities parametrized by logistic regression model"
   ]
  },
  {
   "cell_type": "code",
   "execution_count": 7,
   "metadata": {
    "colab": {
     "base_uri": "https://localhost:8080/"
    },
    "id": "QxV9oHLiYNPZ",
    "outputId": "fc0fcafc-fc5c-4bed-d402-4187787ee58a"
   },
   "outputs": [],
   "source": [
    "X = train[['Tier', 'FICO', 'Term', 'Amount', 'Previous_Rate', 'Competition_rate',\n",
    "           'Cost_Funds', 'Partner Bin', 'Car_Type_N', 'Car_Type_R', 'Car_Type_U', 'Rate']].values\n",
    "y = train['Accept'].values\n",
    "\n",
    "# train\n",
    "accept_model = LogisticRegression(max_iter=300, penalty=None, fit_intercept=True, \n",
    "                                  multi_class='ovr', random_state=42, n_jobs=4).fit(X, y)"
   ]
  },
  {
   "cell_type": "markdown",
   "metadata": {},
   "source": [
    "### Split on train/eval, prepare (observations, actions) data"
   ]
  },
  {
   "cell_type": "code",
   "execution_count": 8,
   "metadata": {},
   "outputs": [],
   "source": [
    "def split_on_observations_nd_actions(data: pd.DataFrame):\n",
    "    observations = data[['Tier', 'FICO', 'Term', 'Amount', 'Previous_Rate', 'Competition_rate',\n",
    "                         'Cost_Funds', 'Partner Bin', 'Car_Type_N', 'Car_Type_R', 'Car_Type_U']]\n",
    "    actions = data['Rate']\n",
    "\n",
    "    observations = observations.values\n",
    "    actions = actions.values.reshape(-1, 1)\n",
    "\n",
    "    return observations, actions"
   ]
  },
  {
   "cell_type": "code",
   "execution_count": 9,
   "metadata": {
    "id": "KLCESAs-ZKUQ"
   },
   "outputs": [],
   "source": [
    "n_samples = 500  # choose number of samples for overall training/evaluation. Training time and accuracy depends on this\n",
    "test_size = 0.1\n",
    "\n",
    "train_data, eval_data = train_test_split(train[:n_samples], test_size=test_size, shuffle=True, random_state=42)"
   ]
  },
  {
   "cell_type": "code",
   "execution_count": 10,
   "metadata": {},
   "outputs": [],
   "source": [
    "train_observations, train_actions = split_on_observations_nd_actions(train_data)\n",
    "eval_observations, eval_actions = split_on_observations_nd_actions(eval_data)"
   ]
  },
  {
   "cell_type": "markdown",
   "metadata": {},
   "source": [
    "### Define reward function"
   ]
  },
  {
   "cell_type": "code",
   "execution_count": 11,
   "metadata": {
    "colab": {
     "base_uri": "https://localhost:8080/"
    },
    "id": "ekET7e07ZpF6",
    "outputId": "dcf90231-cce6-4927-9c63-1b52e1d60703"
   },
   "outputs": [],
   "source": [
    "def p_default(state):\n",
    "    fico = state[:, 1]\n",
    "    \n",
    "    default_prob = fico.copy()\n",
    "    default_prob[default_prob < 500] = 0.41\n",
    "    default_prob[default_prob >= 750] = 0.01\n",
    "    default_prob[default_prob >= 700] = 0.044\n",
    "    default_prob[default_prob >= 650] = 0.089\n",
    "    default_prob[default_prob >= 600] = 0.158\n",
    "    default_prob[default_prob >= 550] = 0.225\n",
    "    default_prob[default_prob >= 500] = 0.284\n",
    "\n",
    "    return default_prob\n",
    "\n",
    "\n",
    "def calc_accept_prob(action, state, model):\n",
    "    if isinstance(action, (int, float)):\n",
    "        action = np.array(action)\n",
    "\n",
    "    action = action.reshape(-1, 1)\n",
    "    \n",
    "    if len(state.shape) == 1:\n",
    "        state = state.reshape(1, -1)\n",
    "    \n",
    "    x = np.concatenate((state, action), axis=1)\n",
    "    probs = model.predict_proba(x)[:, 1]\n",
    "    \n",
    "    return probs\n",
    "\n",
    "\n",
    "def reward(action, state, model, risk_free=0.2, loss_ratio=0.5):\n",
    "    if len(state.shape) == 1:\n",
    "        state = state.reshape(1, -1)\n",
    "\n",
    "    p_accept= calc_accept_prob(action, state, model)\n",
    "\n",
    "    Sum_loan = state[:, 3]\n",
    "    Term = state[:, 2] / 12\n",
    "\n",
    "    p_return = p_default(state)\n",
    "\n",
    "    loss_given_default = loss_ratio * Sum_loan\n",
    "    action = action / 100\n",
    "    reward = (p_accept*(Sum_loan*p_return*((1+action)**Term-(1+risk_free)**Term)-(1-p_return)*loss_given_default))/Sum_loan\n",
    "\n",
    "    return reward"
   ]
  },
  {
   "cell_type": "code",
   "execution_count": 12,
   "metadata": {},
   "outputs": [],
   "source": [
    "# calculate train and evaluation rewards\n",
    "\n",
    "train_rewards = reward(train_actions, train_observations, accept_model, risk_free=0.04, loss_ratio=0.5)\n",
    "eval_rewards = reward(eval_actions, eval_observations, accept_model, risk_free=0.04, loss_ratio=0.5)"
   ]
  },
  {
   "cell_type": "code",
   "execution_count": 13,
   "metadata": {
    "id": "JPCQsc8JZ0Vz"
   },
   "outputs": [],
   "source": [
    "class Environment(gym.Env):\n",
    "    def __init__(self, dataset, accept_model):\n",
    "        super().__init__()\n",
    "\n",
    "        self.dataset = dataset\n",
    "        self.accept_model = accept_model\n",
    "        \n",
    "        self.curr_state = 0\n",
    "        self.n_observation = dataset.shape[0]\n",
    "        \n",
    "        observation_tensor = dataset[['Tier', 'FICO', 'Term', 'Amount', 'Previous_Rate', 'Competition_rate',\n",
    "                                      'Cost_Funds', 'Partner Bin', 'Car_Type_N', 'Car_Type_R','Car_Type_U']]\n",
    "        \n",
    "        self.observation_tensor = observation_tensor.values\n",
    "        self.action_space = gym.spaces.Box(low=np.array([0]), high=np.array([100]))\n",
    "        self.observation_space = gym.spaces.Box(low=-10*np.ones(11)[None, :], \n",
    "                                                high=10e+10*np.ones(11)[None, :], \n",
    "                                                shape=(1, 11))\n",
    "    \n",
    "    def step(self, action):\n",
    "        \"\"\"\n",
    "          1. Update state\n",
    "          2. Return reward\n",
    "\n",
    "          Return format:\n",
    "            next_s, r, done, info = self.step(a)\n",
    "        \"\"\"\n",
    "        state = self.observation_tensor[self.curr_state]\n",
    "       \n",
    "        if self.curr_state >= self.n_observation - 2:\n",
    "            done = True\n",
    "        else:\n",
    "            done = False\n",
    "        \n",
    "        self.curr_state +=1\n",
    "        next_s = self.observation_tensor[self.curr_state]\n",
    "        r = reward(action, state, self.accept_model, risk_free=0.04, loss_ratio=0.5)\n",
    "\n",
    "        info = f'reward = {r}, at state is done = {done}'\n",
    "\n",
    "        return next_s, r, done, info\n",
    "\n",
    "    def reset(self):\n",
    "        self.curr_state = 0\n",
    "        state = self.observation_tensor[self.curr_state]\n",
    "        \n",
    "        return state"
   ]
  },
  {
   "cell_type": "markdown",
   "metadata": {},
   "source": [
    "### Training"
   ]
  },
  {
   "cell_type": "code",
   "execution_count": 14,
   "metadata": {
    "colab": {
     "base_uri": "https://localhost:8080/",
     "height": 596
    },
    "id": "491fEknqZ4QO",
    "outputId": "dde07f46-b646-4d95-dc24-08d6e137c9d0"
   },
   "outputs": [
    {
     "name": "stdout",
     "output_type": "stream",
     "text": [
      "Action size =  1\n",
      "\u001b[2m2023-10-22 21:07:26\u001b[0m [\u001b[32m\u001b[1mdebug    \u001b[0m] \u001b[1mRoundIterator is selected.\u001b[0m\n",
      "\u001b[2m2023-10-22 21:07:26\u001b[0m [\u001b[32m\u001b[1minfo     \u001b[0m] \u001b[1mDirectory is created at d3rlpy_logs/CQL_20231022210726\u001b[0m\n",
      "\u001b[2m2023-10-22 21:07:26\u001b[0m [\u001b[32m\u001b[1mdebug    \u001b[0m] \u001b[1mBuilding models...\u001b[0m\n"
     ]
    },
    {
     "name": "stderr",
     "output_type": "stream",
     "text": [
      "/home/orogov/improved-diffusion/anaconda3/envs/rl/lib/python3.8/site-packages/gym/spaces/box.py:127: UserWarning: \u001b[33mWARN: Box bound precision lowered by casting to float32\u001b[0m\n",
      "  logger.warn(f\"Box bound precision lowered by casting to {self.dtype}\")\n"
     ]
    },
    {
     "name": "stdout",
     "output_type": "stream",
     "text": [
      "\u001b[2m2023-10-22 21:07:31\u001b[0m [\u001b[32m\u001b[1mdebug    \u001b[0m] \u001b[1mModels have been built.\u001b[0m\n",
      "\u001b[2m2023-10-22 21:07:31\u001b[0m [\u001b[32m\u001b[1minfo     \u001b[0m] \u001b[1mParameters are saved to d3rlpy_logs/CQL_20231022210726/params.json\u001b[0m \u001b[36mparams\u001b[0m=\u001b[35m{'action_scaler': None, 'actor_encoder_factory': {'type': 'default', 'params': {'activation': 'relu', 'use_batch_norm': False, 'dropout_rate': None}}, 'actor_learning_rate': 0.0001, 'actor_optim_factory': {'optim_cls': 'Adam', 'betas': (0.9, 0.999), 'eps': 1e-08, 'weight_decay': 0, 'amsgrad': False}, 'alpha_learning_rate': 0.0001, 'alpha_optim_factory': {'optim_cls': 'Adam', 'betas': (0.9, 0.999), 'eps': 1e-08, 'weight_decay': 0, 'amsgrad': False}, 'alpha_threshold': 10, 'batch_size': 256, 'conservative_weight': 5, 'critic_encoder_factory': {'type': 'default', 'params': {'activation': 'relu', 'use_batch_norm': False, 'dropout_rate': None}}, 'critic_learning_rate': 0.0003, 'critic_optim_factory': {'optim_cls': 'Adam', 'betas': (0.9, 0.999), 'eps': 1e-08, 'weight_decay': 0, 'amsgrad': False}, 'gamma': 0.999, 'generated_maxlen': 100000, 'initial_alpha': 1.0, 'initial_temperature': 1.0, 'n_action_samples': 10, 'n_critics': 2, 'n_frames': 1, 'n_steps': 5, 'q_func_factory': {'type': 'mean', 'params': {'share_encoder': False}}, 'real_ratio': 1.0, 'reward_scaler': None, 'scaler': None, 'soft_q_backup': False, 'tau': 0.005, 'temp_learning_rate': 0.0001, 'temp_optim_factory': {'optim_cls': 'Adam', 'betas': (0.9, 0.999), 'eps': 1e-08, 'weight_decay': 0, 'amsgrad': False}, 'use_gpu': 0, 'algorithm': 'CQL', 'observation_shape': (11,), 'action_size': 1}\u001b[0m\n"
     ]
    },
    {
     "name": "stderr",
     "output_type": "stream",
     "text": [
      "Epoch 1/5: 100%|██████████| 1/1 [00:01<00:00,  1.10s/it, temp_loss=-1.24, temp=1, alpha_loss=-10.3, alpha=1, critic_loss=97.1, actor_loss=2.04]\n"
     ]
    },
    {
     "name": "stdout",
     "output_type": "stream",
     "text": [
      "\u001b[2m2023-10-22 21:08:16\u001b[0m [\u001b[32m\u001b[1minfo     \u001b[0m] \u001b[1mCQL_20231022210726: epoch=1 step=1\u001b[0m \u001b[36mepoch\u001b[0m=\u001b[35m1\u001b[0m \u001b[36mmetrics\u001b[0m=\u001b[35m{'time_sample_batch': 0.00047278404235839844, 'time_algorithm_update': 1.0983357429504395, 'temp_loss': -1.2423245906829834, 'temp': 1.000100016593933, 'alpha_loss': -10.27949333190918, 'alpha': 1.000100016593933, 'critic_loss': 97.14276123046875, 'actor_loss': 2.0415968894958496, 'time_step': 1.100050926208496, 'environment': -119.73413711066466, 'td_error': 6.34205901748491}\u001b[0m \u001b[36mstep\u001b[0m=\u001b[35m1\u001b[0m\n",
      "\u001b[2m2023-10-22 21:08:16\u001b[0m [\u001b[32m\u001b[1minfo     \u001b[0m] \u001b[1mModel parameters are saved to d3rlpy_logs/CQL_20231022210726/model_1.pt\u001b[0m\n"
     ]
    },
    {
     "name": "stderr",
     "output_type": "stream",
     "text": [
      "Epoch 2/5: 100%|██████████| 1/1 [00:00<00:00, 13.18it/s, temp_loss=-1.41, temp=1, alpha_loss=-10.1, alpha=1, critic_loss=34, actor_loss=2.89]\n"
     ]
    },
    {
     "name": "stdout",
     "output_type": "stream",
     "text": [
      "\u001b[2m2023-10-22 21:09:01\u001b[0m [\u001b[32m\u001b[1minfo     \u001b[0m] \u001b[1mCQL_20231022210726: epoch=2 step=2\u001b[0m \u001b[36mepoch\u001b[0m=\u001b[35m2\u001b[0m \u001b[36mmetrics\u001b[0m=\u001b[35m{'time_sample_batch': 0.0006546974182128906, 'time_algorithm_update': 0.07401728630065918, 'temp_loss': -1.4116098880767822, 'temp': 1.0002001523971558, 'alpha_loss': -10.128416061401367, 'alpha': 1.0001999139785767, 'critic_loss': 33.96532440185547, 'actor_loss': 2.889057159423828, 'time_step': 0.0757455825805664, 'environment': -119.73413711066466, 'td_error': 2.3122149630685778}\u001b[0m \u001b[36mstep\u001b[0m=\u001b[35m2\u001b[0m\n",
      "\u001b[2m2023-10-22 21:09:01\u001b[0m [\u001b[32m\u001b[1minfo     \u001b[0m] \u001b[1mModel parameters are saved to d3rlpy_logs/CQL_20231022210726/model_2.pt\u001b[0m\n"
     ]
    },
    {
     "name": "stderr",
     "output_type": "stream",
     "text": [
      "Epoch 3/5: 100%|██████████| 1/1 [00:00<00:00,  9.84it/s, temp_loss=-.628, temp=1, alpha_loss=-9.97, alpha=1, critic_loss=23.7, actor_loss=2.36]\n"
     ]
    },
    {
     "name": "stdout",
     "output_type": "stream",
     "text": [
      "\u001b[2m2023-10-22 21:09:45\u001b[0m [\u001b[32m\u001b[1minfo     \u001b[0m] \u001b[1mCQL_20231022210726: epoch=3 step=3\u001b[0m \u001b[36mepoch\u001b[0m=\u001b[35m3\u001b[0m \u001b[36mmetrics\u001b[0m=\u001b[35m{'time_sample_batch': 0.0009629726409912109, 'time_algorithm_update': 0.09857034683227539, 'temp_loss': -0.6275063753128052, 'temp': 1.0002938508987427, 'alpha_loss': -9.965019226074219, 'alpha': 1.0002999305725098, 'critic_loss': 23.667226791381836, 'actor_loss': 2.3599674701690674, 'time_step': 0.1006004810333252, 'environment': -119.73413711066466, 'td_error': 5.75327469570179}\u001b[0m \u001b[36mstep\u001b[0m=\u001b[35m3\u001b[0m\n",
      "\u001b[2m2023-10-22 21:09:45\u001b[0m [\u001b[32m\u001b[1minfo     \u001b[0m] \u001b[1mModel parameters are saved to d3rlpy_logs/CQL_20231022210726/model_3.pt\u001b[0m\n"
     ]
    },
    {
     "name": "stderr",
     "output_type": "stream",
     "text": [
      "Epoch 4/5: 100%|██████████| 1/1 [00:00<00:00, 10.98it/s, temp_loss=0.28, temp=1, alpha_loss=-9.82, alpha=1, critic_loss=29.4, actor_loss=1.33]\n"
     ]
    },
    {
     "name": "stdout",
     "output_type": "stream",
     "text": [
      "\u001b[2m2023-10-22 21:10:29\u001b[0m [\u001b[32m\u001b[1minfo     \u001b[0m] \u001b[1mCQL_20231022210726: epoch=4 step=4\u001b[0m \u001b[36mepoch\u001b[0m=\u001b[35m4\u001b[0m \u001b[36mmetrics\u001b[0m=\u001b[35m{'time_sample_batch': 0.0010001659393310547, 'time_algorithm_update': 0.0888662338256836, 'temp_loss': 0.27996501326560974, 'temp': 1.000361680984497, 'alpha_loss': -9.823066711425781, 'alpha': 1.0003997087478638, 'critic_loss': 29.352161407470703, 'actor_loss': 1.3291139602661133, 'time_step': 0.09093284606933594, 'environment': -119.73413711066466, 'td_error': 9.81177928168372}\u001b[0m \u001b[36mstep\u001b[0m=\u001b[35m4\u001b[0m\n",
      "\u001b[2m2023-10-22 21:10:29\u001b[0m [\u001b[32m\u001b[1minfo     \u001b[0m] \u001b[1mModel parameters are saved to d3rlpy_logs/CQL_20231022210726/model_4.pt\u001b[0m\n"
     ]
    },
    {
     "name": "stderr",
     "output_type": "stream",
     "text": [
      "Epoch 5/5: 100%|██████████| 1/1 [00:00<00:00,  9.07it/s, temp_loss=-.824, temp=1, alpha_loss=-9.66, alpha=1, critic_loss=80, actor_loss=2.83]\n"
     ]
    },
    {
     "name": "stdout",
     "output_type": "stream",
     "text": [
      "\u001b[2m2023-10-22 21:11:14\u001b[0m [\u001b[32m\u001b[1minfo     \u001b[0m] \u001b[1mCQL_20231022210726: epoch=5 step=5\u001b[0m \u001b[36mepoch\u001b[0m=\u001b[35m5\u001b[0m \u001b[36mmetrics\u001b[0m=\u001b[35m{'time_sample_batch': 0.0005130767822265625, 'time_algorithm_update': 0.10753583908081055, 'temp_loss': -0.8236473798751831, 'temp': 1.000435471534729, 'alpha_loss': -9.661993026733398, 'alpha': 1.0004993677139282, 'critic_loss': 79.95272064208984, 'actor_loss': 2.8345885276794434, 'time_step': 0.10919308662414551, 'environment': -95.19406617467935, 'td_error': 5.935430371984511}\u001b[0m \u001b[36mstep\u001b[0m=\u001b[35m5\u001b[0m\n",
      "\u001b[2m2023-10-22 21:11:14\u001b[0m [\u001b[32m\u001b[1minfo     \u001b[0m] \u001b[1mModel parameters are saved to d3rlpy_logs/CQL_20231022210726/model_5.pt\u001b[0m\n"
     ]
    },
    {
     "data": {
      "text/plain": [
       "[(1,\n",
       "  {'time_sample_batch': 0.00047278404235839844,\n",
       "   'time_algorithm_update': 1.0983357429504395,\n",
       "   'temp_loss': -1.2423245906829834,\n",
       "   'temp': 1.000100016593933,\n",
       "   'alpha_loss': -10.27949333190918,\n",
       "   'alpha': 1.000100016593933,\n",
       "   'critic_loss': 97.14276123046875,\n",
       "   'actor_loss': 2.0415968894958496,\n",
       "   'time_step': 1.100050926208496,\n",
       "   'environment': -119.73413711066466,\n",
       "   'td_error': 6.34205901748491}),\n",
       " (2,\n",
       "  {'time_sample_batch': 0.0006546974182128906,\n",
       "   'time_algorithm_update': 0.07401728630065918,\n",
       "   'temp_loss': -1.4116098880767822,\n",
       "   'temp': 1.0002001523971558,\n",
       "   'alpha_loss': -10.128416061401367,\n",
       "   'alpha': 1.0001999139785767,\n",
       "   'critic_loss': 33.96532440185547,\n",
       "   'actor_loss': 2.889057159423828,\n",
       "   'time_step': 0.0757455825805664,\n",
       "   'environment': -119.73413711066466,\n",
       "   'td_error': 2.3122149630685778}),\n",
       " (3,\n",
       "  {'time_sample_batch': 0.0009629726409912109,\n",
       "   'time_algorithm_update': 0.09857034683227539,\n",
       "   'temp_loss': -0.6275063753128052,\n",
       "   'temp': 1.0002938508987427,\n",
       "   'alpha_loss': -9.965019226074219,\n",
       "   'alpha': 1.0002999305725098,\n",
       "   'critic_loss': 23.667226791381836,\n",
       "   'actor_loss': 2.3599674701690674,\n",
       "   'time_step': 0.1006004810333252,\n",
       "   'environment': -119.73413711066466,\n",
       "   'td_error': 5.75327469570179}),\n",
       " (4,\n",
       "  {'time_sample_batch': 0.0010001659393310547,\n",
       "   'time_algorithm_update': 0.0888662338256836,\n",
       "   'temp_loss': 0.27996501326560974,\n",
       "   'temp': 1.000361680984497,\n",
       "   'alpha_loss': -9.823066711425781,\n",
       "   'alpha': 1.0003997087478638,\n",
       "   'critic_loss': 29.352161407470703,\n",
       "   'actor_loss': 1.3291139602661133,\n",
       "   'time_step': 0.09093284606933594,\n",
       "   'environment': -119.73413711066466,\n",
       "   'td_error': 9.81177928168372}),\n",
       " (5,\n",
       "  {'time_sample_batch': 0.0005130767822265625,\n",
       "   'time_algorithm_update': 0.10753583908081055,\n",
       "   'temp_loss': -0.8236473798751831,\n",
       "   'temp': 1.000435471534729,\n",
       "   'alpha_loss': -9.661993026733398,\n",
       "   'alpha': 1.0004993677139282,\n",
       "   'critic_loss': 79.95272064208984,\n",
       "   'actor_loss': 2.8345885276794434,\n",
       "   'time_step': 0.10919308662414551,\n",
       "   'environment': -95.19406617467935,\n",
       "   'td_error': 5.935430371984511})]"
      ]
     },
     "execution_count": 14,
     "metadata": {},
     "output_type": "execute_result"
    }
   ],
   "source": [
    "# Initialize environment\n",
    "environment = Environment(train_data, accept_model)\n",
    "\n",
    "# Initialize train dataset\n",
    "train_dataset = d3rlpy.dataset.MDPDataset(\n",
    "    observations=train_observations,\n",
    "    actions=train_actions,\n",
    "    rewards=train_rewards,\n",
    "    terminals=np.random.randint(2, size=train_actions.shape[0]),\n",
    ")\n",
    "\n",
    "# Initialize evaluation dataset\n",
    "eval_dataset =d3rlpy.dataset.MDPDataset(\n",
    "    observations=eval_observations,\n",
    "    actions=eval_actions,\n",
    "    rewards=eval_rewards,\n",
    "    terminals=np.zeros_like(eval_actions)\n",
    ")\n",
    "\n",
    "# Initialize CQL algorithm\n",
    "cql = d3rlpy.algos.CQL(use_gpu=True, n_steps=5, batch_size=256, gamma=0.999,\n",
    "                       n_critics=2, alpha_threshold=10, conservative_weight=5)\n",
    "\n",
    "print(f'Action size = ', train_dataset.get_action_size())\n",
    "time.sleep(0.1)\n",
    "\n",
    "# Train\n",
    "n_epochs = 5  # set number of epochs\n",
    "cql.fit(train_dataset,\n",
    "        eval_episodes=train_dataset,\n",
    "        n_epochs=n_epochs,\n",
    "        scorers={'environment': d3rlpy.metrics.evaluate_on_environment(environment),\n",
    "                 'td_error': d3rlpy.metrics.td_error_scorer,},)"
   ]
  },
  {
   "cell_type": "markdown",
   "metadata": {
    "id": "jbDGLy7NF0nF",
    "tags": []
   },
   "source": [
    "### Inference"
   ]
  },
  {
   "cell_type": "code",
   "execution_count": 15,
   "metadata": {},
   "outputs": [],
   "source": [
    "test_observations, test_actions = split_on_observations_nd_actions(test)"
   ]
  },
  {
   "cell_type": "code",
   "execution_count": 16,
   "metadata": {},
   "outputs": [
    {
     "data": {
      "text/plain": [
       "((62426, 11), (62426, 1))"
      ]
     },
     "execution_count": 16,
     "metadata": {},
     "output_type": "execute_result"
    }
   ],
   "source": [
    "test_observations.shape, test_actions.shape"
   ]
  },
  {
   "cell_type": "code",
   "execution_count": 21,
   "metadata": {
    "colab": {
     "base_uri": "https://localhost:8080/",
     "height": 425
    },
    "id": "vDNu4l51F0nF",
    "outputId": "cbbc67c2-9eab-47e4-d394-ddbd81a8b849"
   },
   "outputs": [
    {
     "name": "stderr",
     "output_type": "stream",
     "text": [
      "/home/orogov/improved-diffusion/anaconda3/envs/rl/lib/python3.8/site-packages/gym/spaces/box.py:127: UserWarning: \u001b[33mWARN: Box bound precision lowered by casting to float32\u001b[0m\n",
      "  logger.warn(f\"Box bound precision lowered by casting to {self.dtype}\")\n"
     ]
    }
   ],
   "source": [
    "# use policy  and collect reward??\n",
    "# How to check???\n",
    "\n",
    "test_rewards = reward(test_actions[:5000], test_observations[:5000], accept_model, risk_free=0.04, loss_ratio=0.5)\n",
    "env = Environment(test, accept_model)\n",
    "state = env.reset()\n",
    "rewards_cql = []\n",
    "\n",
    "for step in range(10):\n",
    "    actions = cql.predict(state.reshape(1, -1))\n",
    "    next_state, r, done, info = env.step(actions)  # test actions or actions???\n",
    "    rewards_cql.append(r)\n",
    "    state = next_state\n",
    "\n",
    "# hist_rewards_test = reward_vec(test_actions, test_states, risk_free = 0.04, loss_ratio=0.5)\n",
    "# env  = Env_rl_bank(test_data)\n",
    "# state = env.reset()\n",
    "# rewards_cql = []\n",
    "# for step_i in range(len(test_data)):\n",
    "#     actions = cql.predict(state)\n",
    "#     next_state, rew, done, info = env.step(test_actions)\n",
    "#     rewards_cql.append(rew)\n",
    "#     state = next_state\n",
    "\n",
    "\n"
   ]
  },
  {
   "cell_type": "code",
   "execution_count": 23,
   "metadata": {
    "colab": {
     "base_uri": "https://localhost:8080/",
     "height": 187
    },
    "id": "jo6nwEKeTiik",
    "outputId": "6391ceb7-eb30-43de-866c-9aa81fd4bf69"
   },
   "outputs": [],
   "source": [
    "cum_sum_rew_cql = np.cumsum(rewards_cql)\n",
    "# cum_sum_rew_hist = np.cumsum(hist_rewards_test)"
   ]
  },
  {
   "cell_type": "code",
   "execution_count": 30,
   "metadata": {},
   "outputs": [
    {
     "data": {
      "text/plain": [
       "(array([-1.47296613e-03, -1.14274973e-01, -1.19916873e-01, ...,\n",
       "        -2.77118592e+03, -2.77119159e+03, -2.77133017e+03]),\n",
       " array([], dtype=float64))"
      ]
     },
     "execution_count": 30,
     "metadata": {},
     "output_type": "execute_result"
    }
   ],
   "source": [
    "cum_sum_rew_hist, cum_sum_rew_cql"
   ]
  },
  {
   "cell_type": "code",
   "execution_count": null,
   "metadata": {},
   "outputs": [],
   "source": []
  },
  {
   "cell_type": "code",
   "execution_count": null,
   "metadata": {},
   "outputs": [],
   "source": []
  },
  {
   "cell_type": "code",
   "execution_count": null,
   "metadata": {},
   "outputs": [],
   "source": []
  }
 ],
 "metadata": {
  "accelerator": "GPU",
  "colab": {
   "provenance": []
  },
  "gpuClass": "standard",
  "kernelspec": {
   "display_name": "Python 3.10.12 ('rl')",
   "language": "python",
   "name": "python3"
  },
  "language_info": {
   "codemirror_mode": {
    "name": "ipython",
    "version": 3
   },
   "file_extension": ".py",
   "mimetype": "text/x-python",
   "name": "python",
   "nbconvert_exporter": "python",
   "pygments_lexer": "ipython3",
   "version": "3.8.18"
  },
  "vscode": {
   "interpreter": {
    "hash": "5bdd53b22e67ff7ad5dc6bc89941c2f4a11c78969c9a6b380d05978948fef478"
   }
  }
 },
 "nbformat": 4,
 "nbformat_minor": 4
}
